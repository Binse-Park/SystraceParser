{
 "cells": [
  {
   "cell_type": "code",
   "execution_count": 1,
   "metadata": {},
   "outputs": [],
   "source": [
    "import os\n",
    "import time\n",
    "import errno\n",
    "import re\n",
    "import numpy as np\n",
    "import pandas as pd\n",
    "import matplotlib.pyplot as plt\n",
    "\n",
    "from numpy import mean\n",
    "from log_parser import log_parser\n",
    "from mpl_toolkits.mplot3d import Axes3D"
   ]
  },
  {
   "cell_type": "markdown",
   "metadata": {},
   "source": [
    "# Settings of Jupyter notebook HTML"
   ]
  },
  {
   "cell_type": "code",
   "execution_count": 2,
   "metadata": {},
   "outputs": [
    {
     "data": {
      "text/html": [
       "<style>.container { width: 100% !important; }</style>"
      ],
      "text/plain": [
       "<IPython.core.display.HTML object>"
      ]
     },
     "metadata": {},
     "output_type": "display_data"
    },
    {
     "data": {
      "text/html": [
       "<style>.container { font-size: 9.5px; !important; }</style>"
      ],
      "text/plain": [
       "<IPython.core.display.HTML object>"
      ]
     },
     "metadata": {},
     "output_type": "display_data"
    },
    {
     "data": {
      "text/html": [
       "<style>.rendered_html { font-size: 15px; color: red; }</style>"
      ],
      "text/plain": [
       "<IPython.core.display.HTML object>"
      ]
     },
     "metadata": {},
     "output_type": "display_data"
    },
    {
     "data": {
      "text/html": [
       "<style>.rendered_markdown { color: red; }</style>"
      ],
      "text/plain": [
       "<IPython.core.display.HTML object>"
      ]
     },
     "metadata": {},
     "output_type": "display_data"
    }
   ],
   "source": [
    "from IPython.core.display import display, HTML\n",
    "\n",
    "display(HTML(\"<style>.container { width: 100% !important; }</style>\"))\n",
    "display(HTML(\"<style>.container { font-size: 9.5px; !important; }</style>\"))\n",
    "display(HTML(\"<style>.rendered_html { font-size: 15px; color: red; }</style>\"))\n",
    "display(HTML(\"<style>.rendered_markdown { color: red; }</style>\"))"
   ]
  },
  {
   "cell_type": "markdown",
   "metadata": {},
   "source": [
    "# Initialization\n",
    "### Pathes"
   ]
  },
  {
   "cell_type": "code",
   "execution_count": 2,
   "metadata": {},
   "outputs": [
    {
     "ename": "NameError",
     "evalue": "name 'log_parser' is not defined",
     "output_type": "error",
     "traceback": [
      "\u001b[1;31m---------------------------------------------------------------------------\u001b[0m",
      "\u001b[1;31mNameError\u001b[0m                                 Traceback (most recent call last)",
      "\u001b[1;32m<ipython-input-2-7992da0c7e27>\u001b[0m in \u001b[0;36m<module>\u001b[1;34m\u001b[0m\n\u001b[0;32m      3\u001b[0m \u001b[1;33m\u001b[0m\u001b[0m\n\u001b[0;32m      4\u001b[0m \u001b[1;31m#lp = log_parser('/home/ubuntu/Android/lisa_old/ipynb/performance/testingdata/dumpState_1593794288665.log')\u001b[0m\u001b[1;33m\u001b[0m\u001b[1;33m\u001b[0m\u001b[1;33m\u001b[0m\u001b[0m\n\u001b[1;32m----> 5\u001b[1;33m \u001b[0mlp\u001b[0m \u001b[1;33m=\u001b[0m \u001b[0mlog_parser\u001b[0m\u001b[1;33m(\u001b[0m\u001b[1;34m'/home/ubuntu/Android/lisa_old/ipynb/performance/testingdata/{}'\u001b[0m\u001b[1;33m.\u001b[0m\u001b[0mformat\u001b[0m\u001b[1;33m(\u001b[0m\u001b[0mdefault_file_name\u001b[0m\u001b[1;33m)\u001b[0m\u001b[1;33m)\u001b[0m\u001b[1;33m\u001b[0m\u001b[1;33m\u001b[0m\u001b[0m\n\u001b[0m",
      "\u001b[1;31mNameError\u001b[0m: name 'log_parser' is not defined"
     ]
    }
   ],
   "source": [
    "default_file_name = 'dumpState.log'\n",
    "file_name = 'G981V_TIE_3GMEM_30CPU_dumpstate_bottleneck_hint.txt'\n",
    "\n",
    "#lp = log_parser('/home/ubuntu/Android/lisa_old/ipynb/performance/testingdata/dumpState_1593794288665.log')\n",
    "lp = log_parser('/home/ubuntu/Android/lisa_old/ipynb/performance/testingdata/{}'.format(default_file_name))"
   ]
  },
  {
   "cell_type": "markdown",
   "metadata": {},
   "source": [
    "### Values"
   ]
  },
  {
   "cell_type": "code",
   "execution_count": 4,
   "metadata": {},
   "outputs": [],
   "source": [
    "pData1 = [\n",
    "    'MEMORY INFO', \n",
    "    'MEMSIZE INFO', \n",
    "    'SERVICE CRITICAL cpuinfo',\n",
    "    'SERVICE CRITICAL SurfaceFlinger',\n",
    "    'compressed core&heap dump',\n",
    "    'SYSTEM LOG',\n",
    "    'EVENT LOG',\n",
    "    'KERNEL LOG',\n",
    "    'LAST KMSG',\n",
    "    'AP RESET INFO',\n",
    "    'FILESYSTEMS & FREE SPACE',\n",
    "    'SERVICE content',\n",
    "    'SERVICE dropbox',\n",
    "    'SERVICE accessibility',\n",
    "    'SERVICE batterystats',\n",
    "    'SERVICE HIGH meminfo',\n",
    "    'SERVICE package',\n",
    "    'SERVICE binder_calls_stats',\n",
    "    'SERVICE wifi',\n",
    "    'SERVICE procstats',\n",
    "    'OLOG',\n",
    "    'ACTIVITY MANAGER MARs',\n",
    "    'ACTIVITY MANAGER PENDING INTENTS',\n",
    "    'ACTIVITY MANAGER BROADCAST STATE',\n",
    "    'ACTIVITY MANAGER LMK KILLS',\n",
    "    'STORAGE BUFFER',\n",
    "    'SYSTEM PROPERTIES',\n",
    "    'CPU INFO',\n",
    "    'VM TRACES JUST NOW',\n",
    "    'MMC blk0 error',\n",
    "    'DUMP OF SERVICE connmetrics',\n",
    "    'DUMP OF SERVICE gfxinfo',\n",
    "    'DUMP OF SERVICE display',\n",
    "    'DUMP OF SERVICE telephony.registry',\n",
    "    'LOG STATISTICS',\n",
    "    'TSP RAW DATA',\n",
    "]\n",
    "\n",
    "lp.run(arg1=pData1)\n",
    "\n",
    "#display(ssrm.file_lines)"
   ]
  },
  {
   "cell_type": "markdown",
   "metadata": {},
   "source": [
    "### Functions"
   ]
  },
  {
   "cell_type": "code",
   "execution_count": 5,
   "metadata": {},
   "outputs": [],
   "source": [
    "def grep(lines, searchers, n=99999, show=True):\n",
    "    result = list()\n",
    "    number_of_lines = 0\n",
    "\n",
    "    for line in lines:\n",
    "        if len(line) > 0:\n",
    "            for searcher in searchers:\n",
    "                if re.search(searcher, line):\n",
    "                    number_of_lines = n\n",
    "            if number_of_lines > 0:\n",
    "                if show:\n",
    "                    print(line.strip())\n",
    "                result.append(line.strip())\n",
    "                number_of_lines -= 1\n",
    "                #if number_of_lines == 0:\n",
    "                    #print(\"\\n\")\n",
    "                    #result.append('')\n",
    "                    \n",
    "    if len(result) == 0:\n",
    "        print(\"--- Nothing ---\")\n",
    "        \n",
    "    return result"
   ]
  },
  {
   "cell_type": "code",
   "execution_count": null,
   "metadata": {},
   "outputs": [],
   "source": []
  }
 ],
 "metadata": {
  "celltoolbar": "Raw Cell Format",
  "kernelspec": {
   "display_name": "Python 3",
   "language": "python",
   "name": "python3"
  },
  "language_info": {
   "codemirror_mode": {
    "name": "ipython",
    "version": 3
   },
   "file_extension": ".py",
   "mimetype": "text/x-python",
   "name": "python",
   "nbconvert_exporter": "python",
   "pygments_lexer": "ipython3",
   "version": "3.7.6"
  }
 },
 "nbformat": 4,
 "nbformat_minor": 4
}
