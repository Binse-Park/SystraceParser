{
 "cells": [
  {
   "cell_type": "code",
   "execution_count": 1,
   "metadata": {},
   "outputs": [],
   "source": [
    "import os\n",
    "import time\n",
    "import errno\n",
    "import re\n",
    "import numpy as np\n",
    "import pandas as pd\n",
    "import matplotlib.pyplot as plt\n",
    "\n",
    "from numpy import mean\n",
    "from log_parser import log_parser\n",
    "from mpl_toolkits.mplot3d import Axes3D"
   ]
  },
  {
   "cell_type": "markdown",
   "metadata": {},
   "source": [
    "# Settings of Jupyter notebook HTML"
   ]
  },
  {
   "cell_type": "code",
   "execution_count": 2,
   "metadata": {},
   "outputs": [
    {
     "data": {
      "text/html": [
       "<style>.container { width: 100% !important; }</style>"
      ],
      "text/plain": [
       "<IPython.core.display.HTML object>"
      ]
     },
     "metadata": {},
     "output_type": "display_data"
    },
    {
     "data": {
      "text/html": [
       "<style>.container { font-size: 9.5px; !important; }</style>"
      ],
      "text/plain": [
       "<IPython.core.display.HTML object>"
      ]
     },
     "metadata": {},
     "output_type": "display_data"
    },
    {
     "data": {
      "text/html": [
       "<style>.rendered_html { font-size: 15px; color: red; }</style>"
      ],
      "text/plain": [
       "<IPython.core.display.HTML object>"
      ]
     },
     "metadata": {},
     "output_type": "display_data"
    },
    {
     "data": {
      "text/html": [
       "<style>.rendered_markdown { color: red; }</style>"
      ],
      "text/plain": [
       "<IPython.core.display.HTML object>"
      ]
     },
     "metadata": {},
     "output_type": "display_data"
    }
   ],
   "source": [
    "from IPython.core.display import display, HTML\n",
    "\n",
    "display(HTML(\"<style>.container { width: 100% !important; }</style>\"))\n",
    "display(HTML(\"<style>.container { font-size: 9.5px; !important; }</style>\"))\n",
    "display(HTML(\"<style>.rendered_html { font-size: 15px; color: red; }</style>\"))\n",
    "display(HTML(\"<style>.rendered_markdown { color: red; }</style>\"))"
   ]
  },
  {
   "cell_type": "markdown",
   "metadata": {},
   "source": [
    "# Initialization\n",
    "### Pathes"
   ]
  },
  {
   "cell_type": "code",
   "execution_count": 2,
   "metadata": {},
   "outputs": [
    {
     "ename": "NameError",
     "evalue": "name 'log_parser' is not defined",
     "output_type": "error",
     "traceback": [
      "\u001b[1;31m---------------------------------------------------------------------------\u001b[0m",
      "\u001b[1;31mNameError\u001b[0m                                 Traceback (most recent call last)",
      "\u001b[1;32m<ipython-input-2-7992da0c7e27>\u001b[0m in \u001b[0;36m<module>\u001b[1;34m\u001b[0m\n\u001b[0;32m      3\u001b[0m \u001b[1;33m\u001b[0m\u001b[0m\n\u001b[0;32m      4\u001b[0m \u001b[1;31m#lp = log_parser('/home/ubuntu/Android/lisa_old/ipynb/performance/testingdata/dumpState_1593794288665.log')\u001b[0m\u001b[1;33m\u001b[0m\u001b[1;33m\u001b[0m\u001b[1;33m\u001b[0m\u001b[0m\n\u001b[1;32m----> 5\u001b[1;33m \u001b[0mlp\u001b[0m \u001b[1;33m=\u001b[0m \u001b[0mlog_parser\u001b[0m\u001b[1;33m(\u001b[0m\u001b[1;34m'/home/ubuntu/Android/lisa_old/ipynb/performance/testingdata/{}'\u001b[0m\u001b[1;33m.\u001b[0m\u001b[0mformat\u001b[0m\u001b[1;33m(\u001b[0m\u001b[0mdefault_file_name\u001b[0m\u001b[1;33m)\u001b[0m\u001b[1;33m)\u001b[0m\u001b[1;33m\u001b[0m\u001b[1;33m\u001b[0m\u001b[0m\n\u001b[0m",
      "\u001b[1;31mNameError\u001b[0m: name 'log_parser' is not defined"
     ]
    }
   ],
   "source": [
    "default_file_name = 'dumpState.log'\n",
    "file_name = 'G981V_TIE_3GMEM_30CPU_dumpstate_bottleneck_hint.txt'\n",
    "\n",
    "#lp = log_parser('/home/ubuntu/Android/lisa_old/ipynb/performance/testingdata/dumpState_1593794288665.log')\n",
    "lp = log_parser('/home/ubuntu/Android/lisa_old/ipynb/performance/testingdata/{}'.format(default_file_name))"
   ]
  },
  {
   "cell_type": "markdown",
   "metadata": {},
   "source": [
    "### Values"
   ]
  },
  {
   "cell_type": "code",
   "execution_count": 4,
   "metadata": {},
   "outputs": [],
   "source": [
    "pData1 = [\n",
    "    'MEMORY INFO', \n",
    "    'MEMSIZE INFO', \n",
    "    'SERVICE CRITICAL cpuinfo',\n",
    "    'SERVICE CRITICAL SurfaceFlinger',\n",
    "    'compressed core&heap dump',\n",
    "    'SYSTEM LOG',\n",
    "    'EVENT LOG',\n",
    "    'KERNEL LOG',\n",
    "    'LAST KMSG',\n",
    "    'AP RESET INFO',\n",
    "    'FILESYSTEMS & FREE SPACE',\n",
    "    'SERVICE content',\n",
    "    'SERVICE dropbox',\n",
    "    'SERVICE accessibility',\n",
    "    'SERVICE batterystats',\n",
    "    'SERVICE HIGH meminfo',\n",
    "    'SERVICE package',\n",
    "    'SERVICE binder_calls_stats',\n",
    "    'SERVICE wifi',\n",
    "    'SERVICE procstats',\n",
    "    'OLOG',\n",
    "    'ACTIVITY MANAGER MARs',\n",
    "    'ACTIVITY MANAGER PENDING INTENTS',\n",
    "    'ACTIVITY MANAGER BROADCAST STATE',\n",
    "    'ACTIVITY MANAGER LMK KILLS',\n",
    "    'STORAGE BUFFER',\n",
    "    'SYSTEM PROPERTIES',\n",
    "    'CPU INFO',\n",
    "    'VM TRACES JUST NOW',\n",
    "    'MMC blk0 error',\n",
    "    'DUMP OF SERVICE connmetrics',\n",
    "    'DUMP OF SERVICE gfxinfo',\n",
    "    'DUMP OF SERVICE display',\n",
    "    'DUMP OF SERVICE telephony.registry',\n",
    "    'LOG STATISTICS',\n",
    "    'TSP RAW DATA',\n",
    "]\n",
    "\n",
    "lp.run(arg1=pData1)\n",
    "\n",
    "#display(ssrm.file_lines)"
   ]
  },
  {
   "cell_type": "markdown",
   "metadata": {},
   "source": [
    "### Functions"
   ]
  },
  {
   "cell_type": "code",
   "execution_count": 5,
   "metadata": {},
   "outputs": [],
   "source": [
    "def grep(lines, searchers, n=99999, show=True):\n",
    "    result = list()\n",
    "    number_of_lines = 0\n",
    "\n",
    "    for line in lines:\n",
    "        if len(line) > 0:\n",
    "            for searcher in searchers:\n",
    "                if re.search(searcher, line):\n",
    "                    number_of_lines = n\n",
    "            if number_of_lines > 0:\n",
    "                if show:\n",
    "                    print(line.strip())\n",
    "                result.append(line.strip())\n",
    "                number_of_lines -= 1\n",
    "                #if number_of_lines == 0:\n",
    "                    #print(\"\\n\")\n",
    "                    #result.append('')\n",
    "                    \n",
    "    if len(result) == 0:\n",
    "        print(\"--- Nothing ---\")\n",
    "        \n",
    "    return result"
   ]
  },
  {
   "cell_type": "code",
   "execution_count": 6,
   "metadata": {},
   "outputs": [],
   "source": [
    "def pickedup(src, searcher, index=0):\n",
    "    separators = ['/', ',', ' ']\n",
    "    \n",
    "    if searcher not in src:\n",
    "        return None\n",
    "    \n",
    "    splited = src.split(searcher)\n",
    "    if splited <= 0:\n",
    "        return None\n",
    "    \n",
    "    numbers = re.findall('\\d+', splited[1])\n",
    "    if len(numbers) > index:\n",
    "        return int(numbers[index])\n",
    "    \n",
    "    return None"
   ]
  },
  {
   "cell_type": "code",
   "execution_count": 7,
   "metadata": {},
   "outputs": [],
   "source": [
    "def DictFromPickedUp(src, searchers):\n",
    "    result = dict()\n",
    "    for key in searchers.keys():\n",
    "        result[key] = list()\n",
    "\n",
    "    tmp = dict()\n",
    "    for line in src:\n",
    "        flag = False\n",
    "        for key in searchers.keys():\n",
    "            tmp[key] = pickedup(line, key, searchers[key])\n",
    "            if tmp[key] is None:\n",
    "                flag = True\n",
    "\n",
    "        if flag == True:\n",
    "            continue\n",
    "\n",
    "        for key in searchers.keys():\n",
    "            result[key].append(tmp[key])\n",
    "            \n",
    "    return result"
   ]
  },
  {
   "cell_type": "code",
   "execution_count": 8,
   "metadata": {},
   "outputs": [],
   "source": [
    "def orderbyeq(src, index=0):\n",
    "    result = dict()\n",
    "    items = re.split('[ ]', src)\n",
    "    for item in items:\n",
    "        if '=' in item and item[0] == '[':\n",
    "            item = item[1:]\n",
    "            splited = item.split('=')\n",
    "            key = splited[0]\n",
    "            numbers = re.findall('\\d+', splited[1])\n",
    "            if numbers > 0:\n",
    "                result[key] = int(numbers[0])\n",
    "                \n",
    "    return result"
   ]
  },
  {
   "cell_type": "code",
   "execution_count": 9,
   "metadata": {},
   "outputs": [],
   "source": [
    "def DataframeFromDictSortByCount(rawdata):\n",
    "    df = pd.DataFrame.from_dict(rawdata, orient='index')\n",
    "    df['count'] = df.count(axis=1, numeric_only=True)\n",
    "    df = df.sort_index(by='count', axis=0, ascending=False)\n",
    "    df = df.drop(columns=['count'])    \n",
    "    return df"
   ]
  },
  {
   "cell_type": "code",
   "execution_count": 10,
   "metadata": {},
   "outputs": [],
   "source": [
    "def PlotFromDict(rawdata, threshold, title='', ylabel=''):\n",
    "    df = pd.DataFrame.from_dict(rawdata, orient='index')\n",
    "    for key in df.index:\n",
    "        if max(rawdata[key]) > threshold:\n",
    "            s = pd.Series(rawdata[key])\n",
    "            ax = s.plot(figsize=(30,5), label=key, legend=True)\n",
    "            ax.axhline(y=threshold, xmin=-1, xmax=1, color='r', linestyle='--', lw=2)\n",
    "            ax.set_title(title)\n",
    "            ax.set_ylabel(ylabel)"
   ]
  },
  {
   "cell_type": "code",
   "execution_count": 11,
   "metadata": {},
   "outputs": [],
   "source": [
    "def MarkupLCDON(lines):\n",
    "    LCD_ON = list()\n",
    "    marker = ''\n",
    "    for line in lines:\n",
    "        if re.search('LCD', line):\n",
    "            if re.search(' ON ', line):\n",
    "                LCD_ON.append(line)\n",
    "                marker = ' LCDON >>> '\n",
    "                print(line)\n",
    "            elif re.search(' OFF ', line):\n",
    "                LCD_ON.append(line)\n",
    "                marker = ''\n",
    "                print(line)\n",
    "        else:\n",
    "            LCD_ON.append(marker + line)\n",
    "            print(marker + line)\n",
    "    return LCD_ON"
   ]
  },
  {
   "cell_type": "code",
   "execution_count": 12,
   "metadata": {},
   "outputs": [],
   "source": [
    "def str2num(string):\n",
    "    try:\n",
    "        number = int(string)\n",
    "    except:\n",
    "        number = -1\n",
    "        \n",
    "    return number\n",
    "\n",
    "def GetTime(line, type=None):\n",
    "    Days = [0, 31, 29, 31, 30, 31, 30, 31, 31, 30, 31, 30, 31]\n",
    "    splited_items = line.split(' ')\n",
    "    Date = 0\n",
    "    for item in splited_items:\n",
    "        if Date == 0:\n",
    "            if len(item) > 4 and item[-3] is '-':\n",
    "                Month = str2num(item[-5:-3])\n",
    "                Day = str2num(item[-2:])\n",
    "                if Month >= 0 and Day >= 0 :\n",
    "                    Date = (Month * Days[Month] + Day) * 24 * 60 * 60 * 1000\n",
    "        else:\n",
    "            if type is 'SSRM':\n",
    "                item += '.000'\n",
    "\n",
    "            if len(item) > 11 and item[2] is ':' and item[5] is ':' and item[8] is '.':\n",
    "                Hour = str2num(item[0:2])\n",
    "                Minute = str2num(item[3:5])\n",
    "                Second = str2num(item[6:8])\n",
    "                MiliSecond = str2num(item[9:12])\n",
    "                if Hour >= 0 and Minute >= 0 and Second >= 0 and MiliSecond >= 0:\n",
    "                    return Date + ((Hour * 60 + Minute) * 60 + Second) * 1000 + MiliSecond\n",
    "            Date = 0\n",
    "            \n",
    "    return -1\n",
    "\n",
    "def GetKernelTime(line):\n",
    "    splited = line.split('[')\n",
    "    splited = splited[1].split(']')\n",
    "    splited = splited[0].split('.')\n",
    "\n",
    "    second = str2num(splited[0])\n",
    "    if second < 0:\n",
    "        return -1\n",
    "    \n",
    "    nanosecond = str2num(splited[1])\n",
    "    if nanosecond < 0:\n",
    "        return -1\n",
    "    \n",
    "    return (int)(second * 1000 + (int)(nanosecond / 1000))"
   ]
  },
  {
   "cell_type": "markdown",
   "metadata": {},
   "source": [
    "# <span style=\"color:blue\">Base</span> "
   ]
  },
  {
   "cell_type": "code",
   "execution_count": 13,
   "metadata": {},
   "outputs": [
    {
     "name": "stdout",
     "output_type": "stream",
     "text": [
      "Uptime: 12m39s\n"
     ]
    }
   ],
   "source": [
    "lines = lp.log_sections['SERVICE content']\n",
    "tmp = grep(lines,['Uptime'], 1)"
   ]
  },
  {
   "cell_type": "code",
   "execution_count": 14,
   "metadata": {},
   "outputs": [
    {
     "name": "stdout",
     "output_type": "stream",
     "text": [
      "--- Nothing ---\n"
     ]
    }
   ],
   "source": [
    "lines = lp.log_sections['DUMP OF SERVICE display']\n",
    "tmp = grep(lines,['mDefaultViewport'], 1)"
   ]
  },
  {
   "cell_type": "code",
   "execution_count": 15,
   "metadata": {},
   "outputs": [
    {
     "name": "stdout",
     "output_type": "stream",
     "text": [
      "10-12 20:35:02.582  root 32070 32070 I dumpstate: begin\n"
     ]
    }
   ],
   "source": [
    "lines = lp.log_sections['SYSTEM LOG']\n",
    "tmp = grep(lines,['dumpstate: begin', 'dumpstate: done'], 1)"
   ]
  },
  {
   "cell_type": "markdown",
   "metadata": {},
   "source": [
    "* 16xxxxxx ns : 60 hz \n",
    "* 8xxxxxx ns : 120 hz"
   ]
  },
  {
   "cell_type": "code",
   "execution_count": 16,
   "metadata": {
    "scrolled": true
   },
   "outputs": [
    {
     "name": "stdout",
     "output_type": "stream",
     "text": [
      "present offset:         0 ns\t     VSYNC period:  16666666 ns\n",
      "--- Nothing ---\n"
     ]
    }
   ],
   "source": [
    "lines = lp.log_sections['compressed core&heap dump']\n",
    "tmp = grep(lines,['VSYNC period'], 1)\n",
    "lines = lp.log_sections['SERVICE CRITICAL SurfaceFlinger']\n",
    "tmp = grep(lines,['VSYNC period'], 1)"
   ]
  },
  {
   "cell_type": "code",
   "execution_count": null,
   "metadata": {},
   "outputs": [],
   "source": []
  }
 ],
 "metadata": {
  "celltoolbar": "Raw Cell Format",
  "kernelspec": {
   "display_name": "Python 3",
   "language": "python",
   "name": "python3"
  },
  "language_info": {
   "codemirror_mode": {
    "name": "ipython",
    "version": 3
   },
   "file_extension": ".py",
   "mimetype": "text/x-python",
   "name": "python",
   "nbconvert_exporter": "python",
   "pygments_lexer": "ipython3",
   "version": "3.7.6"
  }
 },
 "nbformat": 4,
 "nbformat_minor": 4
}
