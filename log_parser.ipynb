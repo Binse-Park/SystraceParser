{
 "cells": [
  {
   "cell_type": "code",
   "execution_count": 1,
   "metadata": {},
   "outputs": [],
   "source": [
    "import os\n",
    "import time\n",
    "import errno\n",
    "import re\n",
    "import numpy as np\n",
    "import pandas as pd\n",
    "import matplotlib.pyplot as plt\n",
    "\n",
    "from numpy import mean\n",
    "from log_parser import log_parser\n",
    "from mpl_toolkits.mplot3d import Axes3D"
   ]
  },
  {
   "cell_type": "markdown",
   "metadata": {},
   "source": [
    "# Settings of Jupyter notebook HTML"
   ]
  },
  {
   "cell_type": "code",
   "execution_count": 2,
   "metadata": {},
   "outputs": [
    {
     "data": {
      "text/html": [
       "<style>.container { width: 100% !important; }</style>"
      ],
      "text/plain": [
       "<IPython.core.display.HTML object>"
      ]
     },
     "metadata": {},
     "output_type": "display_data"
    },
    {
     "data": {
      "text/html": [
       "<style>.container { font-size: 9.5px; !important; }</style>"
      ],
      "text/plain": [
       "<IPython.core.display.HTML object>"
      ]
     },
     "metadata": {},
     "output_type": "display_data"
    },
    {
     "data": {
      "text/html": [
       "<style>.rendered_html { font-size: 15px; color: red; }</style>"
      ],
      "text/plain": [
       "<IPython.core.display.HTML object>"
      ]
     },
     "metadata": {},
     "output_type": "display_data"
    },
    {
     "data": {
      "text/html": [
       "<style>.rendered_markdown { color: red; }</style>"
      ],
      "text/plain": [
       "<IPython.core.display.HTML object>"
      ]
     },
     "metadata": {},
     "output_type": "display_data"
    }
   ],
   "source": [
    "from IPython.core.display import display, HTML\n",
    "\n",
    "display(HTML(\"<style>.container { width: 100% !important; }</style>\"))\n",
    "display(HTML(\"<style>.container { font-size: 9.5px; !important; }</style>\"))\n",
    "display(HTML(\"<style>.rendered_html { font-size: 15px; color: red; }</style>\"))\n",
    "display(HTML(\"<style>.rendered_markdown { color: red; }</style>\"))"
   ]
  },
  {
   "cell_type": "markdown",
   "metadata": {},
   "source": [
    "# Initialization\n",
    "### Pathes"
   ]
  },
  {
   "cell_type": "code",
   "execution_count": 2,
   "metadata": {},
   "outputs": [
    {
     "ename": "NameError",
     "evalue": "name 'log_parser' is not defined",
     "output_type": "error",
     "traceback": [
      "\u001b[1;31m---------------------------------------------------------------------------\u001b[0m",
      "\u001b[1;31mNameError\u001b[0m                                 Traceback (most recent call last)",
      "\u001b[1;32m<ipython-input-2-7992da0c7e27>\u001b[0m in \u001b[0;36m<module>\u001b[1;34m\u001b[0m\n\u001b[0;32m      3\u001b[0m \u001b[1;33m\u001b[0m\u001b[0m\n\u001b[0;32m      4\u001b[0m \u001b[1;31m#lp = log_parser('/home/ubuntu/Android/lisa_old/ipynb/performance/testingdata/dumpState_1593794288665.log')\u001b[0m\u001b[1;33m\u001b[0m\u001b[1;33m\u001b[0m\u001b[1;33m\u001b[0m\u001b[0m\n\u001b[1;32m----> 5\u001b[1;33m \u001b[0mlp\u001b[0m \u001b[1;33m=\u001b[0m \u001b[0mlog_parser\u001b[0m\u001b[1;33m(\u001b[0m\u001b[1;34m'/home/ubuntu/Android/lisa_old/ipynb/performance/testingdata/{}'\u001b[0m\u001b[1;33m.\u001b[0m\u001b[0mformat\u001b[0m\u001b[1;33m(\u001b[0m\u001b[0mdefault_file_name\u001b[0m\u001b[1;33m)\u001b[0m\u001b[1;33m)\u001b[0m\u001b[1;33m\u001b[0m\u001b[1;33m\u001b[0m\u001b[0m\n\u001b[0m",
      "\u001b[1;31mNameError\u001b[0m: name 'log_parser' is not defined"
     ]
    }
   ],
   "source": [
    "default_file_name = 'dumpState.log'\n",
    "file_name = 'G981V_TIE_3GMEM_30CPU_dumpstate_bottleneck_hint.txt'\n",
    "\n",
    "#lp = log_parser('/home/ubuntu/Android/lisa_old/ipynb/performance/testingdata/dumpState_1593794288665.log')\n",
    "lp = log_parser('/home/ubuntu/Android/lisa_old/ipynb/performance/testingdata/{}'.format(default_file_name))"
   ]
  },
  {
   "cell_type": "markdown",
   "metadata": {},
   "source": [
    "### Values"
   ]
  },
  {
   "cell_type": "code",
   "execution_count": 4,
   "metadata": {},
   "outputs": [],
   "source": [
    "pData1 = [\n",
    "    'MEMORY INFO', \n",
    "    'MEMSIZE INFO', \n",
    "    'SERVICE CRITICAL cpuinfo',\n",
    "    'SERVICE CRITICAL SurfaceFlinger',\n",
    "    'compressed core&heap dump',\n",
    "    'SYSTEM LOG',\n",
    "    'EVENT LOG',\n",
    "    'KERNEL LOG',\n",
    "    'LAST KMSG',\n",
    "    'AP RESET INFO',\n",
    "    'FILESYSTEMS & FREE SPACE',\n",
    "    'SERVICE content',\n",
    "    'SERVICE dropbox',\n",
    "    'SERVICE accessibility',\n",
    "    'SERVICE batterystats',\n",
    "    'SERVICE HIGH meminfo',\n",
    "    'SERVICE package',\n",
    "    'SERVICE binder_calls_stats',\n",
    "    'SERVICE wifi',\n",
    "    'SERVICE procstats',\n",
    "    'OLOG',\n",
    "    'ACTIVITY MANAGER MARs',\n",
    "    'ACTIVITY MANAGER PENDING INTENTS',\n",
    "    'ACTIVITY MANAGER BROADCAST STATE',\n",
    "    'ACTIVITY MANAGER LMK KILLS',\n",
    "    'STORAGE BUFFER',\n",
    "    'SYSTEM PROPERTIES',\n",
    "    'CPU INFO',\n",
    "    'VM TRACES JUST NOW',\n",
    "    'MMC blk0 error',\n",
    "    'DUMP OF SERVICE connmetrics',\n",
    "    'DUMP OF SERVICE gfxinfo',\n",
    "    'DUMP OF SERVICE display',\n",
    "    'DUMP OF SERVICE telephony.registry',\n",
    "    'LOG STATISTICS',\n",
    "    'TSP RAW DATA',\n",
    "]\n",
    "\n",
    "lp.run(arg1=pData1)\n",
    "\n",
    "#display(ssrm.file_lines)"
   ]
  },
  {
   "cell_type": "markdown",
   "metadata": {},
   "source": [
    "### Functions"
   ]
  },
  {
   "cell_type": "code",
   "execution_count": 5,
   "metadata": {},
   "outputs": [],
   "source": [
    "def grep(lines, searchers, n=99999, show=True):\n",
    "    result = list()\n",
    "    number_of_lines = 0\n",
    "\n",
    "    for line in lines:\n",
    "        if len(line) > 0:\n",
    "            for searcher in searchers:\n",
    "                if re.search(searcher, line):\n",
    "                    number_of_lines = n\n",
    "            if number_of_lines > 0:\n",
    "                if show:\n",
    "                    print(line.strip())\n",
    "                result.append(line.strip())\n",
    "                number_of_lines -= 1\n",
    "                #if number_of_lines == 0:\n",
    "                    #print(\"\\n\")\n",
    "                    #result.append('')\n",
    "                    \n",
    "    if len(result) == 0:\n",
    "        print(\"--- Nothing ---\")\n",
    "        \n",
    "    return result"
   ]
  },
  {
   "cell_type": "code",
   "execution_count": 6,
   "metadata": {},
   "outputs": [],
   "source": [
    "def pickedup(src, searcher, index=0):\n",
    "    separators = ['/', ',', ' ']\n",
    "    \n",
    "    if searcher not in src:\n",
    "        return None\n",
    "    \n",
    "    splited = src.split(searcher)\n",
    "    if splited <= 0:\n",
    "        return None\n",
    "    \n",
    "    numbers = re.findall('\\d+', splited[1])\n",
    "    if len(numbers) > index:\n",
    "        return int(numbers[index])\n",
    "    \n",
    "    return None"
   ]
  },
  {
   "cell_type": "code",
   "execution_count": 7,
   "metadata": {},
   "outputs": [],
   "source": [
    "def DictFromPickedUp(src, searchers):\n",
    "    result = dict()\n",
    "    for key in searchers.keys():\n",
    "        result[key] = list()\n",
    "\n",
    "    tmp = dict()\n",
    "    for line in src:\n",
    "        flag = False\n",
    "        for key in searchers.keys():\n",
    "            tmp[key] = pickedup(line, key, searchers[key])\n",
    "            if tmp[key] is None:\n",
    "                flag = True\n",
    "\n",
    "        if flag == True:\n",
    "            continue\n",
    "\n",
    "        for key in searchers.keys():\n",
    "            result[key].append(tmp[key])\n",
    "            \n",
    "    return result"
   ]
  },
  {
   "cell_type": "code",
   "execution_count": 8,
   "metadata": {},
   "outputs": [],
   "source": [
    "def orderbyeq(src, index=0):\n",
    "    result = dict()\n",
    "    items = re.split('[ ]', src)\n",
    "    for item in items:\n",
    "        if '=' in item and item[0] == '[':\n",
    "            item = item[1:]\n",
    "            splited = item.split('=')\n",
    "            key = splited[0]\n",
    "            numbers = re.findall('\\d+', splited[1])\n",
    "            if numbers > 0:\n",
    "                result[key] = int(numbers[0])\n",
    "                \n",
    "    return result"
   ]
  },
  {
   "cell_type": "code",
   "execution_count": 9,
   "metadata": {},
   "outputs": [],
   "source": [
    "def DataframeFromDictSortByCount(rawdata):\n",
    "    df = pd.DataFrame.from_dict(rawdata, orient='index')\n",
    "    df['count'] = df.count(axis=1, numeric_only=True)\n",
    "    df = df.sort_index(by='count', axis=0, ascending=False)\n",
    "    df = df.drop(columns=['count'])    \n",
    "    return df"
   ]
  },
  {
   "cell_type": "code",
   "execution_count": 10,
   "metadata": {},
   "outputs": [],
   "source": [
    "def PlotFromDict(rawdata, threshold, title='', ylabel=''):\n",
    "    df = pd.DataFrame.from_dict(rawdata, orient='index')\n",
    "    for key in df.index:\n",
    "        if max(rawdata[key]) > threshold:\n",
    "            s = pd.Series(rawdata[key])\n",
    "            ax = s.plot(figsize=(30,5), label=key, legend=True)\n",
    "            ax.axhline(y=threshold, xmin=-1, xmax=1, color='r', linestyle='--', lw=2)\n",
    "            ax.set_title(title)\n",
    "            ax.set_ylabel(ylabel)"
   ]
  },
  {
   "cell_type": "code",
   "execution_count": 11,
   "metadata": {},
   "outputs": [],
   "source": [
    "def MarkupLCDON(lines):\n",
    "    LCD_ON = list()\n",
    "    marker = ''\n",
    "    for line in lines:\n",
    "        if re.search('LCD', line):\n",
    "            if re.search(' ON ', line):\n",
    "                LCD_ON.append(line)\n",
    "                marker = ' LCDON >>> '\n",
    "                print(line)\n",
    "            elif re.search(' OFF ', line):\n",
    "                LCD_ON.append(line)\n",
    "                marker = ''\n",
    "                print(line)\n",
    "        else:\n",
    "            LCD_ON.append(marker + line)\n",
    "            print(marker + line)\n",
    "    return LCD_ON"
   ]
  },
  {
   "cell_type": "code",
   "execution_count": 12,
   "metadata": {},
   "outputs": [],
   "source": [
    "def str2num(string):\n",
    "    try:\n",
    "        number = int(string)\n",
    "    except:\n",
    "        number = -1\n",
    "        \n",
    "    return number\n",
    "\n",
    "def GetTime(line, type=None):\n",
    "    Days = [0, 31, 29, 31, 30, 31, 30, 31, 31, 30, 31, 30, 31]\n",
    "    splited_items = line.split(' ')\n",
    "    Date = 0\n",
    "    for item in splited_items:\n",
    "        if Date == 0:\n",
    "            if len(item) > 4 and item[-3] is '-':\n",
    "                Month = str2num(item[-5:-3])\n",
    "                Day = str2num(item[-2:])\n",
    "                if Month >= 0 and Day >= 0 :\n",
    "                    Date = (Month * Days[Month] + Day) * 24 * 60 * 60 * 1000\n",
    "        else:\n",
    "            if type is 'SSRM':\n",
    "                item += '.000'\n",
    "\n",
    "            if len(item) > 11 and item[2] is ':' and item[5] is ':' and item[8] is '.':\n",
    "                Hour = str2num(item[0:2])\n",
    "                Minute = str2num(item[3:5])\n",
    "                Second = str2num(item[6:8])\n",
    "                MiliSecond = str2num(item[9:12])\n",
    "                if Hour >= 0 and Minute >= 0 and Second >= 0 and MiliSecond >= 0:\n",
    "                    return Date + ((Hour * 60 + Minute) * 60 + Second) * 1000 + MiliSecond\n",
    "            Date = 0\n",
    "            \n",
    "    return -1\n",
    "\n",
    "def GetKernelTime(line):\n",
    "    splited = line.split('[')\n",
    "    splited = splited[1].split(']')\n",
    "    splited = splited[0].split('.')\n",
    "\n",
    "    second = str2num(splited[0])\n",
    "    if second < 0:\n",
    "        return -1\n",
    "    \n",
    "    nanosecond = str2num(splited[1])\n",
    "    if nanosecond < 0:\n",
    "        return -1\n",
    "    \n",
    "    return (int)(second * 1000 + (int)(nanosecond / 1000))"
   ]
  },
  {
   "cell_type": "markdown",
   "metadata": {},
   "source": [
    "# <span style=\"color:blue\">Base</span> "
   ]
  },
  {
   "cell_type": "code",
   "execution_count": 13,
   "metadata": {},
   "outputs": [
    {
     "name": "stdout",
     "output_type": "stream",
     "text": [
      "Uptime: 12m39s\n"
     ]
    }
   ],
   "source": [
    "lines = lp.log_sections['SERVICE content']\n",
    "tmp = grep(lines,['Uptime'], 1)"
   ]
  },
  {
   "cell_type": "code",
   "execution_count": 14,
   "metadata": {},
   "outputs": [
    {
     "name": "stdout",
     "output_type": "stream",
     "text": [
      "--- Nothing ---\n"
     ]
    }
   ],
   "source": [
    "lines = lp.log_sections['DUMP OF SERVICE display']\n",
    "tmp = grep(lines,['mDefaultViewport'], 1)"
   ]
  },
  {
   "cell_type": "code",
   "execution_count": 15,
   "metadata": {},
   "outputs": [
    {
     "name": "stdout",
     "output_type": "stream",
     "text": [
      "10-12 20:35:02.582  root 32070 32070 I dumpstate: begin\n"
     ]
    }
   ],
   "source": [
    "lines = lp.log_sections['SYSTEM LOG']\n",
    "tmp = grep(lines,['dumpstate: begin', 'dumpstate: done'], 1)"
   ]
  },
  {
   "cell_type": "markdown",
   "metadata": {},
   "source": [
    "* 16xxxxxx ns : 60 hz \n",
    "* 8xxxxxx ns : 120 hz"
   ]
  },
  {
   "cell_type": "code",
   "execution_count": 16,
   "metadata": {},
   "outputs": [
    {
     "name": "stdout",
     "output_type": "stream",
     "text": [
      "present offset:         0 ns\t     VSYNC period:  16666666 ns\n",
      "--- Nothing ---\n"
     ]
    }
   ],
   "source": [
    "lines = lp.log_sections['compressed core&heap dump']\n",
    "tmp = grep(lines,['VSYNC period'], 1)\n",
    "lines = lp.log_sections['SERVICE CRITICAL SurfaceFlinger']\n",
    "tmp = grep(lines,['VSYNC period'], 1)"
   ]
  },
  {
   "cell_type": "markdown",
   "metadata": {},
   "source": [
    "* the number of installed packages"
   ]
  },
  {
   "cell_type": "code",
   "execution_count": 17,
   "metadata": {},
   "outputs": [
    {
     "name": "stdout",
     "output_type": "stream",
     "text": [
      "mManagedPackages --- size 101\n"
     ]
    }
   ],
   "source": [
    "lines = lp.log_sections['ACTIVITY MANAGER MARs']\n",
    "tmp = grep(lines,['mManagedPackage'], 1)"
   ]
  },
  {
   "cell_type": "code",
   "execution_count": 18,
   "metadata": {},
   "outputs": [
    {
     "name": "stdout",
     "output_type": "stream",
     "text": [
      "[ro.boot.debug_level]: [0x4f4c]\n",
      "[ro.debug_level]: [0x4f4c]\n",
      "[ro.vendor.boot.debug_level]: [0x4f4c]\n"
     ]
    }
   ],
   "source": [
    "lines = lp.log_sections['SYSTEM PROPERTIES']\n",
    "tmp = grep(lines,['debug_level'], 1)"
   ]
  },
  {
   "cell_type": "markdown",
   "metadata": {},
   "source": [
    "* Calculation for gap between android time and kernel time."
   ]
  },
  {
   "cell_type": "code",
   "execution_count": 19,
   "metadata": {},
   "outputs": [
    {
     "name": "stdout",
     "output_type": "stream",
     "text": [
      "<6>[  367.159482]  [7:       watchdog: 1124] !@Sync 12 [2020-10-12 20:29:22.786] FD count : 844, wdog_way : softdog\n",
      "<6>[  397.169681]  [1:       watchdog: 1124] !@Sync 13 [2020-10-12 20:29:52.796] FD count : 845, wdog_way : softdog\n",
      "<6>[  427.180029]  [0:       watchdog: 1124] !@Sync 14 [2020-10-12 20:30:22.806] FD count : 850, wdog_way : softdog\n",
      "<6>[  457.182863]  [7:       watchdog: 1124] !@Sync 15 [2020-10-12 20:30:52.810] FD count : 847, wdog_way : softdog\n",
      "<6>[  487.184655]  [7:       watchdog: 1124] !@Sync 16 [2020-10-12 20:31:22.812] FD count : 852, wdog_way : softdog\n",
      "<6>[  517.192096]  [1:       watchdog: 1124] !@Sync 17 [2020-10-12 20:31:52.819] FD count : 851, wdog_way : softdog\n",
      "<6>[  547.196382]  [6:       watchdog: 1124] !@Sync 18 [2020-10-12 20:32:22.823] FD count : 851, wdog_way : softdog\n",
      "<6>[  577.204663]  [0:       watchdog: 1124] !@Sync 19 [2020-10-12 20:32:52.831] FD count : 850, wdog_way : softdog\n",
      "<6>[  607.215173]  [2:       watchdog: 1124] !@Sync 20 [2020-10-12 20:33:22.842] FD count : 848, wdog_way : softdog\n",
      "<6>[  637.219457]  [6:       watchdog: 1124] !@Sync 21 [2020-10-12 20:33:52.846] FD count : 848, wdog_way\n",
      "<6>[  667.222478]  [6:       watchdog: 1124] !@Sync 22 [2020-10-12 20:34:22.849] FD count : 848, wdog_way : softdog\n",
      "<6>[  697.232474]  [2:       watchdog: 1124] !@Sync 23 [2020-10-12 20:34:52.859] FD count : 847, wdog_way : softdog\n",
      "<6>[  727.238555]  [0:       watchdog: 1124] !@Sync 24 [2020-10-12 20:35:22.865] FD count : 853, wdog_way : softdog\n",
      "27894562786 - 367159 = 27894195627\n",
      "27894592796 - 397169 = 27894195627\n",
      "27894622806 - 427180 = 27894195626\n",
      "27894652810 - 457182 = 27894195628\n",
      "27894682812 - 487184 = 27894195628\n",
      "27894712819 - 517192 = 27894195627\n",
      "27894742823 - 547196 = 27894195627\n",
      "27894772831 - 577204 = 27894195627\n",
      "27894802842 - 607215 = 27894195627\n",
      "27894832846 - 637219 = 27894195627\n",
      "27894862849 - 667222 = 27894195627\n",
      "27894892859 - 697232 = 27894195627\n",
      "27894922865 - 727238 = 27894195627\n"
     ]
    },
    {
     "data": {
      "text/plain": [
       "'Average : 27894195627'"
      ]
     },
     "metadata": {},
     "output_type": "display_data"
    },
    {
     "data": {
      "text/plain": [
       "'Current : 27894195627'"
      ]
     },
     "metadata": {},
     "output_type": "display_data"
    }
   ],
   "source": [
    "lines = lp.log_sections['KERNEL LOG']\n",
    "sync_logs = grep(lines,['@Sync'], 1, show=True)\n",
    "\n",
    "gapoftime = list()\n",
    "for sync_log in sync_logs:\n",
    "    androidtime = GetTime(sync_log)\n",
    "    kerneltime = GetKernelTime(sync_log)\n",
    "\n",
    "    if androidtime < 0 or kerneltime < 0:\n",
    "        continue\n",
    "\n",
    "    print(\"{} - {} = {}\").format(androidtime, kerneltime, androidtime - kerneltime)\n",
    "    gapoftime.append(androidtime - kerneltime)\n",
    "\n",
    "GAP_OF_TIME = int(mean(gapoftime) + 0.5)\n",
    "#display(gapoftime)\n",
    "display(\"Average : {}\".format(GAP_OF_TIME))\n",
    "GAP_OF_TIME = gapoftime[0]\n",
    "display(\"Current : {}\".format(GAP_OF_TIME))"
   ]
  },
  {
   "cell_type": "markdown",
   "metadata": {},
   "source": [
    "# <span style=\"color:blue\">CPU</span> \n",
    "\n",
    "The sampling time should be checked.\n",
    "If the term is short, the cpu usage infor is not important."
   ]
  },
  {
   "cell_type": "markdown",
   "metadata": {},
   "source": [
    "* CPU frequency table and max frequency"
   ]
  },
  {
   "cell_type": "code",
   "execution_count": 20,
   "metadata": {},
   "outputs": [
    {
     "name": "stdout",
     "output_type": "stream",
     "text": [
      "CPU freqs: 1950000 1846000 1742000 1586000 1456000 1300000 1157000 1053000 949000 806000 650000 546000 442000 2314000 2210000 2106000 2002000 1898000 1794000 1690000 1586000 1508000 1404000 1222000 1066000 962000 845000 754000 650000 507000 2730000 2600000 2530000 2470000 2340000 2236000 2080000 1976000 1820000 1664000 1560000 1456000 1378000 1248000 1144000 1040000 936000 819000 728000 624000 520000\n",
      "Max CPU Freq : 2730000\n"
     ]
    }
   ],
   "source": [
    "lines = lp.log_sections['SERVICE batterystats']\n",
    "CPU_freqs = grep(lines,['CPU freqs'], 1)\n",
    "CPU_MAX_FREQ = 2000000\n",
    "\n",
    "if len(CPU_freqs) > 0:\n",
    "    CPU_MAX_FREQ = 0\n",
    "    CPU_FREQ_TABLE = CPU_freqs[0].split(':')[1]\n",
    "    for CPU_freq in CPU_FREQ_TABLE.split(' '):\n",
    "        if len(CPU_freq) > 0:\n",
    "            num_cpu_freq = int(CPU_freq)\n",
    "            if num_cpu_freq > CPU_MAX_FREQ:\n",
    "                CPU_MAX_FREQ = num_cpu_freq\n",
    "    print('Max CPU Freq : ' + str(CPU_MAX_FREQ))"
   ]
  },
  {
   "cell_type": "code",
   "execution_count": 21,
   "metadata": {},
   "outputs": [
    {
     "data": {
      "text/plain": [
       "['DUMP OF SERVICE CRITICAL cpuinfo:\\n',\n",
       " 'Load: 12.41 / 14.83 / 9.36\\n',\n",
       " 'CPU usage from 373830ms to 90634ms ago (2020-10-12 20:28:50.019 to 2020-10-12 20:33:33.216):\\n',\n",
       " '  43% 1048/system_server: 29% user + 13% kernel / faults: 529209 minor 418 major\\n',\n",
       " '  18% 3871/com.samsung.android.voc: 12% user + 6.4% kernel / faults: 286120 minor 41 major\\n',\n",
       " '  14% 571/surfaceflinger: 7.3% user + 6.8% kernel / faults: 1614 minor 44 major\\n',\n",
       " '  5.5% 227/sugov:6: 0% user + 5.5% kernel\\n',\n",
       " '  3.4% 2505/com.google.android.gms: 2.5% user + 0.8% kernel / faults: 75947 minor 113 major\\n',\n",
       " '  3.2% 1507/com.android.systemui: 2.2% user + 0.9% kernel / faults: 35903 minor 607 major\\n',\n",
       " '  3.2% 225/sugov:0: 0% user + 3.2% kernel\\n',\n",
       " '  3% 7410/com.samsung.android.app.cocktailbarservice: 2.3% user + 0.6% kernel / faults: 63725 minor 2 major\\n',\n",
       " '  2.6% 7702/com.samsung.android.honeyboard: 2% user + 0.5% kernel / faults: 66325 minor 1862 major\\n',\n",
       " '  2.5% 531/android.hardware.graphics.composer@2.2-service: 1.1% user + 1.3% kernel / faults: 25 minor 12 major\\n',\n",
       " '  2.2% 706/statsd: 1.9% user + 0.2% kernel / faults: 129 minor 1 major\\n',\n",
       " '  2.1% 1761/com.google.android.gms.persistent: 1.5% user + 0.6% kernel / faults: 19206 minor 46 major\\n']"
      ]
     },
     "metadata": {},
     "output_type": "display_data"
    }
   ],
   "source": [
    "display(lp.log_sections['SERVICE CRITICAL cpuinfo'][:15])"
   ]
  },
  {
   "cell_type": "code",
   "execution_count": null,
   "metadata": {},
   "outputs": [],
   "source": []
  }
 ],
 "metadata": {
  "celltoolbar": "Raw Cell Format",
  "kernelspec": {
   "display_name": "Python 3",
   "language": "python",
   "name": "python3"
  },
  "language_info": {
   "codemirror_mode": {
    "name": "ipython",
    "version": 3
   },
   "file_extension": ".py",
   "mimetype": "text/x-python",
   "name": "python",
   "nbconvert_exporter": "python",
   "pygments_lexer": "ipython3",
   "version": "3.7.6"
  }
 },
 "nbformat": 4,
 "nbformat_minor": 4
}
