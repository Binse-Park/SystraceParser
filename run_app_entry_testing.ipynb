{
 "cells": [
  {
   "cell_type": "markdown",
   "metadata": {},
   "source": [
    "# App Entry Testing"
   ]
  },
  {
   "cell_type": "markdown",
   "metadata": {},
   "source": [
    "The goal of this experiment is to collect frame statistics while swiping up and down tabs of recently opened applications on a Pixel device running Android with an EAS kernel. This process is name **Recents Fling**. The Analysis phase will consist in comparing EAS with other schedulers, that is comparing *sched* governor with:\n",
    "\n",
    "    - interactive\n",
    "    - performance\n",
    "    - powersave\n",
    "    - ondemand\n",
    "    \n",
    "For this experiment it is recommended to open many applications so that we can swipe over more recently opened applications."
   ]
  },
  {
   "cell_type": "code",
   "execution_count": 1,
   "metadata": {},
   "outputs": [
    {
     "name": "stderr",
     "output_type": "stream",
     "text": [
      "2019-03-29 21:47:42,028 INFO    : root         : Using LISA logging configuration:\n",
      "2019-03-29 21:47:42,029 INFO    : root         :   /home/ubuntu/Android/lisa/logging.conf\n"
     ]
    }
   ],
   "source": [
    "import logging\n",
    "from conf import LisaLogging\n",
    "LisaLogging.setup()"
   ]
  },
  {
   "cell_type": "code",
   "execution_count": 2,
   "metadata": {
    "scrolled": true
   },
   "outputs": [
    {
     "name": "stderr",
     "output_type": "stream",
     "text": [
      "2019-03-29 21:47:42,257 INFO    : root         : Generating grammar tables from /usr/lib/python2.7/lib2to3/Grammar.txt\n",
      "2019-03-29 21:47:42,273 INFO    : root         : Generating grammar tables from /usr/lib/python2.7/lib2to3/PatternGrammar.txt\n"
     ]
    },
    {
     "name": "stdout",
     "output_type": "stream",
     "text": [
      "Populating the interactive namespace from numpy and matplotlib\n"
     ]
    }
   ],
   "source": [
    "%pylab inline\n",
    "\n",
    "import os\n",
    "from time import sleep\n",
    "\n",
    "# Support to access the remote target\n",
    "import devlib\n",
    "from env import TestEnv\n",
    "\n",
    "# Import support for Android devices\n",
    "from android import Screen, Workload\n",
    "\n",
    "from devlib.utils.android import adb_command\n",
    "\n",
    "# Support for trace events analysis\n",
    "from trace import Trace\n",
    "\n",
    "# Suport for FTrace events parsing and visualization\n",
    "import trappy\n",
    "\n",
    "import ipywidgets as widgets\n",
    "from IPython.display import display\n",
    "\n",
    "from ipywidgets import interact, interactive, fixed, interact_manual\n",
    "\n",
    "from android import System\n",
    "\n",
    "import subprocess"
   ]
  },
  {
   "cell_type": "markdown",
   "metadata": {},
   "source": [
    "## Test environment setup"
   ]
  },
  {
   "cell_type": "markdown",
   "metadata": {},
   "source": [
    "**devlib** requires the ANDROID_HOME environment variable configured to point to your local installation of the Android SDK. If you have not this variable configured in the shell used to start the notebook server, you need to run a cell to define where your Android SDK is installed or specify the ANDROID_HOME in your target configuration.\n",
    "\n",
    "In case more than one Android device are conencted to the host, you must specify the ID of the device you want to target in **my_target_conf**. Run **adb devices** on your host to get the ID."
   ]
  },
  {
   "cell_type": "code",
   "execution_count": 3,
   "metadata": {},
   "outputs": [],
   "source": [
    "import os\n",
    "os.environ['ANDROID_HOME'] = '/home/ubuntu/Android/AndroidSDK/'"
   ]
  },
  {
   "cell_type": "markdown",
   "metadata": {},
   "source": [
    "In case more than one Android device are conencted to the host, you must specify the ID of the device you want to target in `my_target_conf`. Run `adb devices` on your host to get the ID."
   ]
  },
  {
   "cell_type": "code",
   "execution_count": 4,
   "metadata": {},
   "outputs": [],
   "source": [
    "# Setup a target configuration\n",
    "my_conf = {\n",
    "    \n",
    "    # Target platform and board\n",
    "    \"platform\"    : 'android',\n",
    "    \"board\"       : 'pixel',\n",
    "\n",
    "    # Device ID\n",
    "    #\"device\"      : \"HT6670300102\",\n",
    "    \n",
    "    # Android home\n",
    "    \"ANDROID_HOME\" : \"/home/ubuntu/Android/AndroidSDK\",\n",
    "    \n",
    "    # Lisa home\n",
    "    \"LISA_HOME\" : \"/home/ubuntu/Android/lisa\",\n",
    "    \n",
    "    # Folder where all the results will be collected\n",
    "    \"results_dir\" : \"Android_RecentsFling\",\n",
    "    \n",
    "    # Define devlib modules to load\n",
    "    #\"modules\"     : [\n",
    "    #    'cpufreq'       # enable CPUFreq support\n",
    "    #],\n",
    "\n",
    "    # FTrace events to collect for all the tests configuration which have\n",
    "    # the \"ftrace\" flag enabled\n",
    "    #\"ftrace\"  : {\n",
    "    #     \"events\" : [\n",
    "    #        \"sched_switch\",\n",
    "    #        \"sched_load_avg_cpu\",\n",
    "    #        \"cpu_frequency\",\n",
    "    #        \"cpu_capacity\"\n",
    "    #     ],\n",
    "    #     \"buffsize\" : 10 * 1024,\n",
    "    #},\n",
    "\n",
    "    # Tools required by the experiments\n",
    "    #\"tools\"   : [ 'trace-cmd' ],\n",
    "}\n",
    "\n",
    "systrace_conf = {\n",
    "    #\"systrace\" : {\n",
    "        \"events\" : [\"input\", \"view\", \"wm\", \"am\", \"sm\", \"audio\", \"video\", \"res\", \"dalvik\", \"rs\", \"bionic\", \"sched\", \"freq\", \"idle\", \"sync\", \"workq\"],\n",
    "        \"buffsize\" : 10240,\n",
    "    #}\n",
    "}"
   ]
  },
  {
   "cell_type": "code",
   "execution_count": 5,
   "metadata": {
    "scrolled": false
   },
   "outputs": [
    {
     "name": "stdout",
     "output_type": "stream",
     "text": [
      "adb: unable to connect for root: no devices/emulators found\n",
      "adb: error: failed to get feature set: no devices/emulators found\n",
      "error: no devices/emulators found\n"
     ]
    },
    {
     "name": "stderr",
     "output_type": "stream",
     "text": [
      "2019-03-29 21:47:42,893 INFO    : TestEnv      : Using base path: /home/ubuntu/Android/lisa\n",
      "2019-03-29 21:47:42,895 INFO    : TestEnv      : Loading custom (inline) target configuration\n",
      "2019-03-29 21:47:42,897 WARNING : TestEnv      : Wipe previous contents of the results folder:\n",
      "2019-03-29 21:47:42,898 WARNING : TestEnv      :    /home/ubuntu/Android/lisa/results/Android_RecentsFling\n",
      "2019-03-29 21:47:42,900 INFO    : TestEnv      : External tools using:\n",
      "2019-03-29 21:47:42,901 INFO    : TestEnv      :    ANDROID_HOME: /home/ubuntu/Android/AndroidSDK\n",
      "2019-03-29 21:47:42,903 INFO    : TestEnv      :    CATAPULT_HOME: /home/ubuntu/Android/lisa/tools/catapult\n",
      "2019-03-29 21:47:42,905 INFO    : TestEnv      : Devlib modules to load: ['bl', 'cpufreq', 'sched']\n",
      "2019-03-29 21:47:42,907 INFO    : TestEnv      : Connecting Android target [DEFAULT]\n",
      "2019-03-29 21:47:42,908 INFO    : TestEnv      : Connection settings:\n",
      "2019-03-29 21:47:42,909 INFO    : TestEnv      :    None\n"
     ]
    },
    {
     "ename": "HostError",
     "evalue": "No device is connected and available",
     "output_type": "error",
     "traceback": [
      "\u001b[0;31m\u001b[0m",
      "\u001b[0;31mHostError\u001b[0mTraceback (most recent call last)",
      "\u001b[0;32m<ipython-input-5-cfced210fe08>\u001b[0m in \u001b[0;36m<module>\u001b[0;34m()\u001b[0m\n\u001b[1;32m      5\u001b[0m \u001b[0;34m\u001b[0m\u001b[0m\n\u001b[1;32m      6\u001b[0m \u001b[0;31m# Initialize a test environment using:\u001b[0m\u001b[0;34m\u001b[0m\u001b[0;34m\u001b[0m\u001b[0m\n\u001b[0;32m----> 7\u001b[0;31m \u001b[0mte\u001b[0m \u001b[0;34m=\u001b[0m \u001b[0mTestEnv\u001b[0m\u001b[0;34m(\u001b[0m\u001b[0mmy_conf\u001b[0m\u001b[0;34m)\u001b[0m\u001b[0;34m\u001b[0m\u001b[0m\n\u001b[0m\u001b[1;32m      8\u001b[0m \u001b[0mtarget\u001b[0m \u001b[0;34m=\u001b[0m \u001b[0mte\u001b[0m\u001b[0;34m.\u001b[0m\u001b[0mtarget\u001b[0m\u001b[0;34m\u001b[0m\u001b[0m\n",
      "\u001b[0;32m/home/ubuntu/Android/lisa/libs/utils/env.pyc\u001b[0m in \u001b[0;36m__init__\u001b[0;34m(self, target_conf, test_conf, wipe, force_new)\u001b[0m\n\u001b[1;32m    313\u001b[0m         \u001b[0mos\u001b[0m\u001b[0;34m.\u001b[0m\u001b[0msymlink\u001b[0m\u001b[0;34m(\u001b[0m\u001b[0mself\u001b[0m\u001b[0;34m.\u001b[0m\u001b[0mres_dir\u001b[0m\u001b[0;34m,\u001b[0m \u001b[0mres_lnk\u001b[0m\u001b[0;34m)\u001b[0m\u001b[0;34m\u001b[0m\u001b[0m\n\u001b[1;32m    314\u001b[0m \u001b[0;34m\u001b[0m\u001b[0m\n\u001b[0;32m--> 315\u001b[0;31m         \u001b[0mself\u001b[0m\u001b[0;34m.\u001b[0m\u001b[0m_init\u001b[0m\u001b[0;34m(\u001b[0m\u001b[0;34m)\u001b[0m\u001b[0;34m\u001b[0m\u001b[0m\n\u001b[0m\u001b[1;32m    316\u001b[0m \u001b[0;34m\u001b[0m\u001b[0m\n\u001b[1;32m    317\u001b[0m         \u001b[0;31m# Initialize FTrace events collection\u001b[0m\u001b[0;34m\u001b[0m\u001b[0;34m\u001b[0m\u001b[0m\n",
      "\u001b[0;32m/home/ubuntu/Android/lisa/libs/utils/env.pyc\u001b[0m in \u001b[0;36m_init\u001b[0;34m(self, force)\u001b[0m\n\u001b[1;32m    355\u001b[0m \u001b[0;34m\u001b[0m\u001b[0m\n\u001b[1;32m    356\u001b[0m         \u001b[0;31m# Initialize target\u001b[0m\u001b[0;34m\u001b[0m\u001b[0;34m\u001b[0m\u001b[0m\n\u001b[0;32m--> 357\u001b[0;31m         \u001b[0mself\u001b[0m\u001b[0;34m.\u001b[0m\u001b[0m_init_target\u001b[0m\u001b[0;34m(\u001b[0m\u001b[0mforce\u001b[0m\u001b[0;34m)\u001b[0m\u001b[0;34m\u001b[0m\u001b[0m\n\u001b[0m\u001b[1;32m    358\u001b[0m \u001b[0;34m\u001b[0m\u001b[0m\n\u001b[1;32m    359\u001b[0m         \u001b[0;31m# Initialize target Topology for behavior analysis\u001b[0m\u001b[0;34m\u001b[0m\u001b[0;34m\u001b[0m\u001b[0m\n",
      "\u001b[0;32m/home/ubuntu/Android/lisa/libs/utils/env.pyc\u001b[0m in \u001b[0;36m_init_target\u001b[0;34m(self, force)\u001b[0m\n\u001b[1;32m    591\u001b[0m                     \u001b[0mworking_directory\u001b[0m \u001b[0;34m=\u001b[0m \u001b[0mself\u001b[0m\u001b[0;34m.\u001b[0m\u001b[0mworkdir\u001b[0m\u001b[0;34m,\u001b[0m\u001b[0;34m\u001b[0m\u001b[0m\n\u001b[1;32m    592\u001b[0m                     \u001b[0mload_default_modules\u001b[0m \u001b[0;34m=\u001b[0m \u001b[0mFalse\u001b[0m\u001b[0;34m,\u001b[0m\u001b[0;34m\u001b[0m\u001b[0m\n\u001b[0;32m--> 593\u001b[0;31m                     modules = self.__modules)\n\u001b[0m\u001b[1;32m    594\u001b[0m         \u001b[0;32melif\u001b[0m \u001b[0mplatform_type\u001b[0m\u001b[0;34m.\u001b[0m\u001b[0mlower\u001b[0m\u001b[0;34m(\u001b[0m\u001b[0;34m)\u001b[0m \u001b[0;34m==\u001b[0m \u001b[0;34m'host'\u001b[0m\u001b[0;34m:\u001b[0m\u001b[0;34m\u001b[0m\u001b[0m\n\u001b[1;32m    595\u001b[0m             \u001b[0mself\u001b[0m\u001b[0;34m.\u001b[0m\u001b[0m_log\u001b[0m\u001b[0;34m.\u001b[0m\u001b[0mdebug\u001b[0m\u001b[0;34m(\u001b[0m\u001b[0;34m'Setup HOST target...'\u001b[0m\u001b[0;34m)\u001b[0m\u001b[0;34m\u001b[0m\u001b[0m\n",
      "\u001b[0;32m/home/ubuntu/Android/lisa/libs/devlib/devlib/target.pyc\u001b[0m in \u001b[0;36m__init__\u001b[0;34m(self, connection_settings, platform, working_directory, executables_directory, connect, modules, load_default_modules, shell_prompt, conn_cls, package_data_directory)\u001b[0m\n\u001b[1;32m   1038\u001b[0m                                             \u001b[0mload_default_modules\u001b[0m\u001b[0;34m=\u001b[0m\u001b[0mload_default_modules\u001b[0m\u001b[0;34m,\u001b[0m\u001b[0;34m\u001b[0m\u001b[0m\n\u001b[1;32m   1039\u001b[0m                                             \u001b[0mshell_prompt\u001b[0m\u001b[0;34m=\u001b[0m\u001b[0mshell_prompt\u001b[0m\u001b[0;34m,\u001b[0m\u001b[0;34m\u001b[0m\u001b[0m\n\u001b[0;32m-> 1040\u001b[0;31m                                             conn_cls=conn_cls)\n\u001b[0m\u001b[1;32m   1041\u001b[0m         \u001b[0mself\u001b[0m\u001b[0;34m.\u001b[0m\u001b[0mpackage_data_directory\u001b[0m \u001b[0;34m=\u001b[0m \u001b[0mpackage_data_directory\u001b[0m\u001b[0;34m\u001b[0m\u001b[0m\n\u001b[1;32m   1042\u001b[0m         \u001b[0mself\u001b[0m\u001b[0;34m.\u001b[0m\u001b[0mclear_logcat_lock\u001b[0m \u001b[0;34m=\u001b[0m \u001b[0mthreading\u001b[0m\u001b[0;34m.\u001b[0m\u001b[0mLock\u001b[0m\u001b[0;34m(\u001b[0m\u001b[0;34m)\u001b[0m\u001b[0;34m\u001b[0m\u001b[0m\n",
      "\u001b[0;32m/home/ubuntu/Android/lisa/libs/devlib/devlib/target.pyc\u001b[0m in \u001b[0;36m__init__\u001b[0;34m(self, connection_settings, platform, working_directory, executables_directory, connect, modules, load_default_modules, shell_prompt, conn_cls)\u001b[0m\n\u001b[1;32m    215\u001b[0m         \u001b[0mself\u001b[0m\u001b[0;34m.\u001b[0m\u001b[0m_update_modules\u001b[0m\u001b[0;34m(\u001b[0m\u001b[0;34m'early'\u001b[0m\u001b[0;34m)\u001b[0m\u001b[0;34m\u001b[0m\u001b[0m\n\u001b[1;32m    216\u001b[0m         \u001b[0;32mif\u001b[0m \u001b[0mconnect\u001b[0m\u001b[0;34m:\u001b[0m\u001b[0;34m\u001b[0m\u001b[0m\n\u001b[0;32m--> 217\u001b[0;31m             \u001b[0mself\u001b[0m\u001b[0;34m.\u001b[0m\u001b[0mconnect\u001b[0m\u001b[0;34m(\u001b[0m\u001b[0;34m)\u001b[0m\u001b[0;34m\u001b[0m\u001b[0m\n\u001b[0m\u001b[1;32m    218\u001b[0m \u001b[0;34m\u001b[0m\u001b[0m\n\u001b[1;32m    219\u001b[0m     \u001b[0;31m# connection and initialization\u001b[0m\u001b[0;34m\u001b[0m\u001b[0;34m\u001b[0m\u001b[0m\n",
      "\u001b[0;32m/home/ubuntu/Android/lisa/libs/devlib/devlib/target.pyc\u001b[0m in \u001b[0;36mconnect\u001b[0;34m(self, timeout, check_boot_completed)\u001b[0m\n\u001b[1;32m   1069\u001b[0m             \u001b[0;31m# always disconnect first.\u001b[0m\u001b[0;34m\u001b[0m\u001b[0;34m\u001b[0m\u001b[0m\n\u001b[1;32m   1070\u001b[0m             \u001b[0madb_disconnect\u001b[0m\u001b[0;34m(\u001b[0m\u001b[0mdevice\u001b[0m\u001b[0;34m)\u001b[0m\u001b[0;34m\u001b[0m\u001b[0m\n\u001b[0;32m-> 1071\u001b[0;31m         \u001b[0msuper\u001b[0m\u001b[0;34m(\u001b[0m\u001b[0mAndroidTarget\u001b[0m\u001b[0;34m,\u001b[0m \u001b[0mself\u001b[0m\u001b[0;34m)\u001b[0m\u001b[0;34m.\u001b[0m\u001b[0mconnect\u001b[0m\u001b[0;34m(\u001b[0m\u001b[0mtimeout\u001b[0m\u001b[0;34m=\u001b[0m\u001b[0mtimeout\u001b[0m\u001b[0;34m,\u001b[0m \u001b[0mcheck_boot_completed\u001b[0m\u001b[0;34m=\u001b[0m\u001b[0mcheck_boot_completed\u001b[0m\u001b[0;34m)\u001b[0m\u001b[0;34m\u001b[0m\u001b[0m\n\u001b[0m\u001b[1;32m   1072\u001b[0m \u001b[0;34m\u001b[0m\u001b[0m\n\u001b[1;32m   1073\u001b[0m     \u001b[0;32mdef\u001b[0m \u001b[0mkick_off\u001b[0m\u001b[0;34m(\u001b[0m\u001b[0mself\u001b[0m\u001b[0;34m,\u001b[0m \u001b[0mcommand\u001b[0m\u001b[0;34m,\u001b[0m \u001b[0mas_root\u001b[0m\u001b[0;34m=\u001b[0m\u001b[0mNone\u001b[0m\u001b[0;34m)\u001b[0m\u001b[0;34m:\u001b[0m\u001b[0;34m\u001b[0m\u001b[0m\n",
      "\u001b[0;32m/home/ubuntu/Android/lisa/libs/devlib/devlib/target.pyc\u001b[0m in \u001b[0;36mconnect\u001b[0;34m(self, timeout, check_boot_completed)\u001b[0m\n\u001b[1;32m    222\u001b[0m         \u001b[0mself\u001b[0m\u001b[0;34m.\u001b[0m\u001b[0mplatform\u001b[0m\u001b[0;34m.\u001b[0m\u001b[0minit_target_connection\u001b[0m\u001b[0;34m(\u001b[0m\u001b[0mself\u001b[0m\u001b[0;34m)\u001b[0m\u001b[0;34m\u001b[0m\u001b[0m\n\u001b[1;32m    223\u001b[0m         \u001b[0mtid\u001b[0m \u001b[0;34m=\u001b[0m \u001b[0mid\u001b[0m\u001b[0;34m(\u001b[0m\u001b[0mthreading\u001b[0m\u001b[0;34m.\u001b[0m\u001b[0mcurrent_thread\u001b[0m\u001b[0;34m(\u001b[0m\u001b[0;34m)\u001b[0m\u001b[0;34m)\u001b[0m\u001b[0;34m\u001b[0m\u001b[0m\n\u001b[0;32m--> 224\u001b[0;31m         \u001b[0mself\u001b[0m\u001b[0;34m.\u001b[0m\u001b[0m_connections\u001b[0m\u001b[0;34m[\u001b[0m\u001b[0mtid\u001b[0m\u001b[0;34m]\u001b[0m \u001b[0;34m=\u001b[0m \u001b[0mself\u001b[0m\u001b[0;34m.\u001b[0m\u001b[0mget_connection\u001b[0m\u001b[0;34m(\u001b[0m\u001b[0mtimeout\u001b[0m\u001b[0;34m=\u001b[0m\u001b[0mtimeout\u001b[0m\u001b[0;34m)\u001b[0m\u001b[0;34m\u001b[0m\u001b[0m\n\u001b[0m\u001b[1;32m    225\u001b[0m         \u001b[0;32mif\u001b[0m \u001b[0mcheck_boot_completed\u001b[0m\u001b[0;34m:\u001b[0m\u001b[0;34m\u001b[0m\u001b[0m\n\u001b[1;32m    226\u001b[0m             \u001b[0mself\u001b[0m\u001b[0;34m.\u001b[0m\u001b[0mwait_boot_complete\u001b[0m\u001b[0;34m(\u001b[0m\u001b[0mtimeout\u001b[0m\u001b[0;34m)\u001b[0m\u001b[0;34m\u001b[0m\u001b[0m\n",
      "\u001b[0;32m/home/ubuntu/Android/lisa/libs/devlib/devlib/target.pyc\u001b[0m in \u001b[0;36mget_connection\u001b[0;34m(self, timeout)\u001b[0m\n\u001b[1;32m    242\u001b[0m         \u001b[0;32mif\u001b[0m \u001b[0mself\u001b[0m\u001b[0;34m.\u001b[0m\u001b[0mconn_cls\u001b[0m \u001b[0;34m==\u001b[0m \u001b[0mNone\u001b[0m\u001b[0;34m:\u001b[0m\u001b[0;34m\u001b[0m\u001b[0m\n\u001b[1;32m    243\u001b[0m             \u001b[0;32mraise\u001b[0m \u001b[0mValueError\u001b[0m\u001b[0;34m(\u001b[0m\u001b[0;34m'Connection class not specified on Target creation.'\u001b[0m\u001b[0;34m)\u001b[0m\u001b[0;34m\u001b[0m\u001b[0m\n\u001b[0;32m--> 244\u001b[0;31m         \u001b[0;32mreturn\u001b[0m \u001b[0mself\u001b[0m\u001b[0;34m.\u001b[0m\u001b[0mconn_cls\u001b[0m\u001b[0;34m(\u001b[0m\u001b[0mtimeout\u001b[0m\u001b[0;34m=\u001b[0m\u001b[0mtimeout\u001b[0m\u001b[0;34m,\u001b[0m \u001b[0;34m**\u001b[0m\u001b[0mself\u001b[0m\u001b[0;34m.\u001b[0m\u001b[0mconnection_settings\u001b[0m\u001b[0;34m)\u001b[0m  \u001b[0;31m# pylint: disable=not-callable\u001b[0m\u001b[0;34m\u001b[0m\u001b[0m\n\u001b[0m\u001b[1;32m    245\u001b[0m \u001b[0;34m\u001b[0m\u001b[0m\n\u001b[1;32m    246\u001b[0m     \u001b[0;32mdef\u001b[0m \u001b[0mwait_boot_complete\u001b[0m\u001b[0;34m(\u001b[0m\u001b[0mself\u001b[0m\u001b[0;34m,\u001b[0m \u001b[0mtimeout\u001b[0m\u001b[0;34m=\u001b[0m\u001b[0;36m10\u001b[0m\u001b[0;34m)\u001b[0m\u001b[0;34m:\u001b[0m\u001b[0;34m\u001b[0m\u001b[0m\n",
      "\u001b[0;32m/home/ubuntu/Android/lisa/libs/devlib/devlib/utils/android.pyc\u001b[0m in \u001b[0;36m__init__\u001b[0;34m(self, device, timeout, platform, adb_server)\u001b[0m\n\u001b[1;32m    226\u001b[0m         \u001b[0mself\u001b[0m\u001b[0;34m.\u001b[0m\u001b[0mtimeout\u001b[0m \u001b[0;34m=\u001b[0m \u001b[0mtimeout\u001b[0m \u001b[0;32mif\u001b[0m \u001b[0mtimeout\u001b[0m \u001b[0;32mis\u001b[0m \u001b[0;32mnot\u001b[0m \u001b[0mNone\u001b[0m \u001b[0;32melse\u001b[0m \u001b[0mself\u001b[0m\u001b[0;34m.\u001b[0m\u001b[0mdefault_timeout\u001b[0m\u001b[0;34m\u001b[0m\u001b[0m\n\u001b[1;32m    227\u001b[0m         \u001b[0;32mif\u001b[0m \u001b[0mdevice\u001b[0m \u001b[0;32mis\u001b[0m \u001b[0mNone\u001b[0m\u001b[0;34m:\u001b[0m\u001b[0;34m\u001b[0m\u001b[0m\n\u001b[0;32m--> 228\u001b[0;31m             \u001b[0mdevice\u001b[0m \u001b[0;34m=\u001b[0m \u001b[0madb_get_device\u001b[0m\u001b[0;34m(\u001b[0m\u001b[0mtimeout\u001b[0m\u001b[0;34m=\u001b[0m\u001b[0mtimeout\u001b[0m\u001b[0;34m,\u001b[0m \u001b[0madb_server\u001b[0m\u001b[0;34m=\u001b[0m\u001b[0madb_server\u001b[0m\u001b[0;34m)\u001b[0m\u001b[0;34m\u001b[0m\u001b[0m\n\u001b[0m\u001b[1;32m    229\u001b[0m         \u001b[0mself\u001b[0m\u001b[0;34m.\u001b[0m\u001b[0mdevice\u001b[0m \u001b[0;34m=\u001b[0m \u001b[0mdevice\u001b[0m\u001b[0;34m\u001b[0m\u001b[0m\n\u001b[1;32m    230\u001b[0m         \u001b[0mself\u001b[0m\u001b[0;34m.\u001b[0m\u001b[0madb_server\u001b[0m \u001b[0;34m=\u001b[0m \u001b[0madb_server\u001b[0m\u001b[0;34m\u001b[0m\u001b[0m\n",
      "\u001b[0;32m/home/ubuntu/Android/lisa/libs/devlib/devlib/utils/android.pyc\u001b[0m in \u001b[0;36madb_get_device\u001b[0;34m(timeout, adb_server)\u001b[0m\n\u001b[1;32m    323\u001b[0m         \u001b[0;32melse\u001b[0m\u001b[0;34m:\u001b[0m\u001b[0;34m\u001b[0m\u001b[0m\n\u001b[1;32m    324\u001b[0m             \u001b[0;32mif\u001b[0m \u001b[0mtimeout\u001b[0m \u001b[0;34m<\u001b[0m \u001b[0mtime\u001b[0m\u001b[0;34m.\u001b[0m\u001b[0mtime\u001b[0m\u001b[0;34m(\u001b[0m\u001b[0;34m)\u001b[0m \u001b[0;34m-\u001b[0m \u001b[0mstart\u001b[0m\u001b[0;34m:\u001b[0m\u001b[0;34m\u001b[0m\u001b[0m\n\u001b[0;32m--> 325\u001b[0;31m                 \u001b[0;32mraise\u001b[0m \u001b[0mHostError\u001b[0m\u001b[0;34m(\u001b[0m\u001b[0;34m'No device is connected and available'\u001b[0m\u001b[0;34m)\u001b[0m\u001b[0;34m\u001b[0m\u001b[0m\n\u001b[0m\u001b[1;32m    326\u001b[0m             \u001b[0mtime\u001b[0m\u001b[0;34m.\u001b[0m\u001b[0msleep\u001b[0m\u001b[0;34m(\u001b[0m\u001b[0;36m1\u001b[0m\u001b[0;34m)\u001b[0m\u001b[0;34m\u001b[0m\u001b[0m\n\u001b[1;32m    327\u001b[0m \u001b[0;34m\u001b[0m\u001b[0m\n",
      "\u001b[0;31mHostError\u001b[0m: No device is connected and available"
     ]
    }
   ],
   "source": [
    "!adb root\n",
    "\n",
    "!adb push $LISA_HOME/tools/aapt-arm-pie /data/local/tmp\n",
    "!adb shell chmod 0755 /data/local/tmp/aapt-arm-pie\n",
    "\n",
    "# Initialize a test environment using:\n",
    "te = TestEnv(my_conf)\n",
    "target = te.target"
   ]
  },
  {
   "cell_type": "markdown",
   "metadata": {},
   "source": [
    "## Defines"
   ]
  },
  {
   "cell_type": "code",
   "execution_count": null,
   "metadata": {},
   "outputs": [],
   "source": [
    "KEYCODE_HOME = 'KEYCODE_HOME'\n",
    "KEYCODE_APP_SWITCH = 'KEYCODE_APP_SWITCH'\n",
    "KEYCODE_DPAD_UP = 'KEYCODE_DPAD_UP'\n",
    "KEYCODE_DPAD_DOWN = 'KEYCODE_DPAD_DOWN'\n",
    "KEYCODE_DPAD_LEFT = 'KEYCODE_DPAD_LEFT'\n",
    "KEYCODE_DPAD_RIGHT = 'KEYCODE_DPAD_RIGHT'\n",
    "KEYCODE_DEL = 'KEYCODE_DEL'\n",
    "KEY_DEL = 'DEL'"
   ]
  },
  {
   "cell_type": "markdown",
   "metadata": {},
   "source": [
    "## Support Functions"
   ]
  },
  {
   "cell_type": "markdown",
   "metadata": {},
   "source": [
    "This set of support functions will help us running the benchmark using different CPUFreq governors."
   ]
  },
  {
   "cell_type": "code",
   "execution_count": null,
   "metadata": {},
   "outputs": [],
   "source": [
    "def set_performance():\n",
    "    target.cpufreq.set_all_governors('performance')\n",
    "\n",
    "def set_powersave():\n",
    "    target.cpufreq.set_all_governors('powersave')\n",
    "\n",
    "def set_interactive():\n",
    "    target.cpufreq.set_all_governors('interactive')\n",
    "\n",
    "def set_sched():\n",
    "    target.cpufreq.set_all_governors('schedutil')\n",
    "\n",
    "def set_ondemand():\n",
    "    target.cpufreq.set_all_governors('ondemand')\n",
    "    \n",
    "    for cpu in target.list_online_cpus():\n",
    "        tunables = target.cpufreq.get_governor_tunables(cpu)\n",
    "        target.cpufreq.set_governor_tunables(\n",
    "            cpu,\n",
    "            'ondemand',\n",
    "            **{'sampling_rate' : tunables['sampling_rate_min']}\n",
    "        )"
   ]
  },
  {
   "cell_type": "code",
   "execution_count": null,
   "metadata": {},
   "outputs": [],
   "source": [
    "# CPUFreq configurations to test\n",
    "confs = {\n",
    "    'performance' : {\n",
    "        'label' : 'prf',\n",
    "        'set' :  set_performance,\n",
    "    },\n",
    "    'powersave' : {\n",
    "        'label' : 'pws',\n",
    "        'set' :  set_powersave,\n",
    "    },\n",
    "#     'interactive' : {\n",
    "#         'label' : 'int',\n",
    "#         'set' :  set_interactive,\n",
    "#     },\n",
    "    'schedutil' : {\n",
    "        'label' : 'sch',\n",
    "        'set' :  set_sched,\n",
    "    },\n",
    "#    'ondemand' : {\n",
    "#        'label' : 'odm',\n",
    "#        'set' :  set_ondemand,\n",
    "#    }\n",
    "}\n",
    "\n",
    "# The set of results for each comparison test\n",
    "results = {}"
   ]
  },
  {
   "cell_type": "code",
   "execution_count": null,
   "metadata": {},
   "outputs": [],
   "source": [
    "def open_apps(n):\n",
    "    \"\"\"\n",
    "    Open `n` apps on the device\n",
    "    \n",
    "    :param n: number of apps to open\n",
    "    :type n: int\n",
    "    \"\"\"\n",
    "    # Get a list of third-party packages\n",
    "    android_version = target.getprop('ro.build.version.release')\n",
    "    if android_version >= 'N':\n",
    "        packages = target.execute('cmd package list packages | cut -d: -f 2')\n",
    "        packages = packages.splitlines()\n",
    "    else:\n",
    "        packages = target.execute('pm list packages -3 | cut -d: -f 2')\n",
    "        packages = packages.splitlines()\n",
    "\n",
    "    # As a safe fallback let's use a list of standard Android AOSP apps which are always available\n",
    "    if len(packages) < 8:\n",
    "        packages = [\n",
    "            'com.android.messaging',\n",
    "            'com.android.calendar',\n",
    "            'com.android.settings',\n",
    "            'com.android.calculator2',\n",
    "            'com.android.email',\n",
    "            'com.android.music',\n",
    "            'com.android.deskclock',\n",
    "            'com.android.contacts',\n",
    "        ]\n",
    "    \n",
    "    LAUNCH_CMD = 'monkey -p {} -c android.intent.category.LAUNCHER 1 '\n",
    "    \n",
    "    if n > len(packages):\n",
    "        n = len(packages)\n",
    "        \n",
    "    logging.info('Trying to open %d apps...', n)\n",
    "    started = 0\n",
    "    for app in packages:\n",
    "        logging.debug('    Launching %s', app)\n",
    "        try:\n",
    "            target.execute(LAUNCH_CMD.format(app))\n",
    "            started = started + 1\n",
    "            logging.info('  %2d starting %s...', started, app)\n",
    "        except Exception:\n",
    "            pass\n",
    "        if started >= n:\n",
    "            break\n",
    "        \n",
    "    # Close Recents\n",
    "    target.execute('input keyevent KEYCODE_HOME')\n"
   ]
  },
  {
   "cell_type": "code",
   "execution_count": null,
   "metadata": {},
   "outputs": [],
   "source": [
    "def recentsfling_run(exp_dir):\n",
    "    # Unlock device screen (assume no password required)\n",
    "    target.execute('input keyevent 82')\n",
    "\n",
    "    # Configure screen to max brightness and no dimming\n",
    "    Screen.set_brightness(target, percent=100)\n",
    "    Screen.set_dim(target, auto=False)\n",
    "    Screen.set_timeout(target, 60*60*10) # 10 hours should be enought for an experiment\n",
    "\n",
    "    # Open Recents on the target device\n",
    "    target.execute('input keyevent KEYCODE_APP_SWITCH')\n",
    "    # Allow the activity to start\n",
    "    sleep(5)\n",
    "    # Reset framestats collection\n",
    "    target.execute('dumpsys gfxinfo --reset')\n",
    "    \n",
    "    w, h = target.screen_resolution\n",
    "    x = w/2\n",
    "    yl = int(0.2*h)\n",
    "    yh = int(0.9*h)\n",
    "    \n",
    "    logging.info('Start Swiping Recents')\n",
    "    for i in range(5):\n",
    "        # Simulate two fast UP and DOWN swipes\n",
    "        target.execute('input swipe {} {} {} {} 50'.format(x, yl, x, yh))\n",
    "        sleep(0.3)\n",
    "        target.execute('input swipe {} {} {} {} 50'.format(x, yh, x, yl))\n",
    "        sleep(0.7)\n",
    "    logging.info('Swiping Recents Completed')\n",
    "    \n",
    "    # Reset screen brightness and auto dimming\n",
    "    Screen.set_defaults(target)\n",
    "\n",
    "    # Get frame stats\n",
    "    framestats_file = os.path.join(exp_dir, \"framestats.txt\")\n",
    "    adb_command(target.adb_name, 'shell dumpsys gfxinfo com.android.systemui > {}'.format(framestats_file))\n",
    "    \n",
    "    # Close Recents\n",
    "    target.execute('input keyevent KEYCODE_HOME')\n",
    "\n",
    "    return framestats_file"
   ]
  },
  {
   "cell_type": "code",
   "execution_count": null,
   "metadata": {},
   "outputs": [],
   "source": [
    "def experiment(governor, exp_dir):\n",
    "    os.system('mkdir -p {}'.format(exp_dir));\n",
    "\n",
    "    logging.info('------------------------')\n",
    "    logging.info('Run workload using %s governor', governor)\n",
    "    confs[governor]['set']()\n",
    "    \n",
    "    # Start FTrace\n",
    "    te.ftrace.start()\n",
    "      \n",
    "    ### Run the benchmark ###\n",
    "    framestats_file = recentsfling_run(exp_dir)\n",
    "    \n",
    "    # Stop FTrace\n",
    "    te.ftrace.stop()    \n",
    "\n",
    "    # Collect and keep track of the trace\n",
    "    trace_file = os.path.join(exp_dir, 'trace.dat')\n",
    "    te.ftrace.get_trace(trace_file)\n",
    "    \n",
    "    # Parse trace\n",
    "    tr = Trace(exp_dir,\n",
    "               my_conf['ftrace']['events'],\n",
    "               te.platform)\n",
    "    \n",
    "    # return all the experiment data\n",
    "    return {\n",
    "        'dir'             : exp_dir,\n",
    "        'framestats_file' : framestats_file,\n",
    "        'trace_file'      : trace_file,\n",
    "        'ftrace'          : tr.ftrace,\n",
    "        'trace'           : tr\n",
    "    }"
   ]
  },
  {
   "cell_type": "code",
   "execution_count": null,
   "metadata": {},
   "outputs": [],
   "source": [
    "def get_apk_list(chboxes, path):\n",
    "    directories = list()\n",
    "    current_path = my_conf[\"LISA_HOME\"] + '/apks' + path\n",
    "    \n",
    "    for apk in os.listdir(current_path):\n",
    "        if not '.apk' in apk :\n",
    "            directories.append(apk)\n",
    "            continue\n",
    "            \n",
    "        application_name = ['None', 'None']\n",
    "        grep = \"application-label-en\"\n",
    "        while len(grep) > len(\"application\"):\n",
    "            try:\n",
    "                application_name = subprocess.check_output(\"/home/ubuntu/Android/AndroidSDK/build-tools/25.0.2/aapt dump badging {} | grep {}\".format(current_path + '/' + apk, grep), shell=True).splitlines()[0].split(\"'\")\n",
    "                break\n",
    "            except:\n",
    "                for idx in range(len(grep) + 1):\n",
    "                    if grep[-idx] == '-':\n",
    "                        break;\n",
    "                grep = grep[0:-idx]\n",
    "                #print(grep)\n",
    "           \n",
    "        package_name = subprocess.check_output(\"/home/ubuntu/Android/AndroidSDK/build-tools/25.0.2/aapt dump badging {} | grep {}\".format(current_path + '/' + apk, 'package:'), shell=True).splitlines()[0].split(\"'\")[1]\n",
    "\n",
    "        \n",
    "        if len(application_name) > 1:\n",
    "            descript = \"{} - {}/{} - {}\".format(application_name[1], path, apk, package_name)\n",
    "            #print(apk + \" / \" + application_name)\n",
    "            chboxes.append(widgets.Checkbox(\n",
    "                value=False,\n",
    "                description=descript.decode(\"utf-8\"),\n",
    "                disabled=False,\n",
    "                layout=widgets.Layout(width=\"200%\"),\n",
    "                style={'description_width': 'initial'}\n",
    "            ))\n",
    "            \n",
    "    for directory in directories:\n",
    "        get_apk_list(chboxes, path + '/' + directory)"
   ]
  },
  {
   "cell_type": "code",
   "execution_count": null,
   "metadata": {},
   "outputs": [],
   "source": [
    "def get_app_list():\n",
    "    # Get a list of third-party packages\n",
    "    CMD_PACKAGE_LIST = \"\"\n",
    "    android_version = target.getprop('ro.build.version.release')\n",
    "    if android_version >= 'N':\n",
    "        CMD_PACKAGE_LIST = 'cmd package list packages | grep {} | cut -d: -f 2'\n",
    "    else:\n",
    "        CMD_PACKAGE_LIST = 'pm list packages -f | grep {} | cut -d: -f 2'\n",
    "    CMD_LAUNCHER_DB = \"sqlite3 /data/data/com.sec.android.app.launcher/databases/launcher.db -cmd 'select componentName from icons' .exit\"\n",
    "\n",
    "    launcher_db = target.execute(CMD_LAUNCHER_DB).splitlines()\n",
    "    \n",
    "    packages = list()\n",
    "    for component in launcher_db:\n",
    "        component = component.split('/')[0]\n",
    "        component = target.execute(CMD_PACKAGE_LIST.format(component)).splitlines()[0]\n",
    "        packages.append(component)\n",
    "        #print(component + \" - \" + packages)\n",
    "        \n",
    "    chboxes = dict()\n",
    "    chboxes[0] = list()\n",
    "    chboxes[1] = list()\n",
    "    chboxes[2] = list()\n",
    "        \n",
    "    for i in range(len(packages)) :\n",
    "        file_package = packages[i].split(\".apk=\")\n",
    "        application_name = target.execute('/data/local/tmp/aapt-arm-pie d badging {} | grep application-label:'.format(file_package[0] + \".apk\")).split(\"'\")\n",
    "        \n",
    "        if len(file_package) == 2 and len(application_name) > 1:\n",
    "            #print(application_name[1])\n",
    "            descript = \"{} - {}\".format(application_name[1], file_package[1])\n",
    "\n",
    "            #print(descript)\n",
    "            chboxes[int(2 * i / len(packages))].append(widgets.Checkbox(\n",
    "                value=False,\n",
    "                description=descript.decode(\"utf-8\"),\n",
    "                disabled=False,\n",
    "                layout=widgets.Layout(width=\"200%\"),\n",
    "                style={'description_width': 'initial'}\n",
    "            ))\n",
    "    \n",
    "    get_apk_list(chboxes[2], '')\n",
    "    \n",
    "    return chboxes\n",
    "#get_app_list()"
   ]
  },
  {
   "cell_type": "code",
   "execution_count": null,
   "metadata": {},
   "outputs": [],
   "source": [
    "def adb_press(keycode):\n",
    "    target.execute('input keyevent ' + keycode)"
   ]
  },
  {
   "cell_type": "code",
   "execution_count": null,
   "metadata": {},
   "outputs": [],
   "source": [
    "def get_pid(package):\n",
    "    try:\n",
    "        return subprocess.check_output(\"adb shell ps -o PID -o NAME | grep {}\".format(package), shell=True).splitlines()[0].split(' ')[0]\n",
    "    except:\n",
    "        return 0\n",
    "    return "
   ]
  },
  {
   "cell_type": "code",
   "execution_count": null,
   "metadata": {},
   "outputs": [],
   "source": [
    "def on_click_start(change):\n",
    "    count = 0\n",
    "    packages = list()\n",
    "    \n",
    "    wakeup()\n",
    "    print('\\n\\n===== Testing list =====\\n')\n",
    "    \n",
    "    for chbox in chboxes :\n",
    "        for item in chboxes[chbox] :\n",
    "            if(item.value) :\n",
    "                count += 1\n",
    "                package = item.description.split(' - ')\n",
    "                print(str(count) + ' - ' + item.description)\n",
    "                if '.apk' in package[1] and len(package) > 2:\n",
    "                    packages.append({'application' : package[0], 'apk' : package[1], 'package' : package[2]})\n",
    "                    install_cmd = 'adb install ' + my_conf[\"LISA_HOME\"] + '/apks' + package[1];\n",
    "                    try:\n",
    "                        print('        -> ' + install_cmd)\n",
    "                        os.system(install_cmd)\n",
    "                    except:\n",
    "                        print('        -> failed to install')\n",
    "                else:\n",
    "                    packages.append({'application' : package[0], 'package' : package[1]})\n",
    "          \n",
    "    if count == 0 :\n",
    "        print('There is no testing app in the list.\\nPlease select over apps')\n",
    "        return\n",
    "\n",
    "    print('\\n\\n===== Testing =====\\n')\n",
    "    \n",
    "    exp_dir = 'testingdata'\n",
    "    os.system('mkdir -p {}'.format(exp_dir))\n",
    "    \n",
    "    CMD_LAUNCH = 'monkey -p {} -c android.intent.category.LAUNCHER 1 '   \n",
    "    CMD_GET_RECENT_APPS = \"dumpsys activity recents | grep 'Recent #'\"\n",
    "    CMD_FORCE_STOP =  \"adb shell am force-stop {}\"\n",
    "\n",
    "    adb_press(KEYCODE_HOME)\n",
    "    \n",
    "    for app in packages:\n",
    "        adb_press(KEYCODE_APP_SWITCH)\n",
    "        sleep(1)\n",
    "        \n",
    "        Directions = [KEYCODE_DPAD_UP, KEYCODE_DPAD_DOWN, KEYCODE_DPAD_LEFT, KEYCODE_DPAD_RIGHT]\n",
    "\n",
    "        for Direction in Directions:\n",
    "            completed = False\n",
    "            \n",
    "            for i in range(5):\n",
    "                count = 0\n",
    "                nbRecentApps = len(target.execute(CMD_GET_RECENT_APPS).split('\\n'))\n",
    "                nbPreRecentApps = nbRecentApps + 1\n",
    "                \n",
    "                while nbRecentApps < nbPreRecentApps:\n",
    "                    adb_press(KEYCODE_DEL)\n",
    "                    adb_press(KEY_DEL)\n",
    "                    nbPreRecentApps = nbRecentApps\n",
    "                    nbRecentApps = len(target.execute(CMD_GET_RECENT_APPS).split('\\n'))\n",
    "                    count += 1\n",
    "                    \n",
    "                if count > 1 :\n",
    "                    completed = True\n",
    "                    break;\n",
    "\n",
    "                #print(CMD_PRESS + Direction)\n",
    "                adb_press(Direction)\n",
    "                sleep(1)\n",
    "                \n",
    "            if completed :\n",
    "                break;\n",
    "\n",
    "        #te.ftrace.start() # Start FTrace\n",
    "        systrace_output = System.systrace_start(te, os.path.join(exp_dir, 'trace.html'), \n",
    "                                                time=10, conf=systrace_conf)\n",
    "        systrace_output.expect(\"Starting tracing\")\n",
    " \n",
    "        sleep(1)\n",
    "    \n",
    "        try:\n",
    "            print('     Try Launching... ' + app['application'] + '   -   ' + app['package'])\n",
    "            print(CMD_LAUNCH.format(app['package']))\n",
    "            target.execute(CMD_LAUNCH.format(app['package']))\n",
    "            sleep(3)\n",
    "        except Exception:\n",
    "            pass\n",
    "        #te.ftrace.stop()   # Stop FTrace \n",
    "        \n",
    "        systrace_output.sendline(\"\")\n",
    "        System.systrace_wait(te, systrace_output)\n",
    "        te.platform_dump(te.res_dir)\n",
    "        \n",
    "        # Collect and keep track of the trace\n",
    "        #trace_file = os.path.join(exp_dir, 'trace.dat')\n",
    "        #te.ftrace.get_trace(trace_file)\n",
    "\n",
    "        # Parse trace\n",
    "        #tr = Trace(exp_dir, my_conf['ftrace']['events'], te.platform)\n",
    "        \n",
    "        print(get_pid(app['package']))\n",
    "        \n",
    "        try:\n",
    "            target.execute(CMD_FORCE_STOP.format(app['package']))\n",
    "            sleep(1)\n",
    "        except Exception:\n",
    "            pass\n",
    "        "
   ]
  },
  {
   "cell_type": "code",
   "execution_count": null,
   "metadata": {},
   "outputs": [],
   "source": [
    "def wakeup():\n",
    "    CMD_TOP_ACTIVITY = \"dumpsys activity | grep top-activity\"\n",
    "    CMD_UNLOCK = \"input keyevent 82 && input keyevent 66\"\n",
    "    CMD_POWER = \"input keyevent KEYCODE_POWER\"\n",
    "    \n",
    "    flag = False\n",
    "    \n",
    "    try:\n",
    "        checking = (len(target.execute(CMD_TOP_ACTIVITY)) == 0)\n",
    "    except:\n",
    "        checking = True\n",
    "        \n",
    "    while checking:\n",
    "        if(flag):\n",
    "            flag = False\n",
    "            target.execute(CMD_POWER)\n",
    "        else:\n",
    "            flag = True\n",
    "        target.execute(CMD_UNLOCK)\n",
    "        \n",
    "        sleep(1)\n",
    "        \n",
    "        try:\n",
    "            checking = (len(target.execute(CMD_TOP_ACTIVITY)) == 0)\n",
    "        except:\n",
    "            checking = True"
   ]
  },
  {
   "cell_type": "markdown",
   "metadata": {},
   "source": [
    "## Precondition"
   ]
  },
  {
   "cell_type": "code",
   "execution_count": null,
   "metadata": {},
   "outputs": [],
   "source": [
    "chboxes = get_app_list()"
   ]
  },
  {
   "cell_type": "markdown",
   "metadata": {},
   "source": [
    "## UI Performance Analysis"
   ]
  },
  {
   "cell_type": "code",
   "execution_count": null,
   "metadata": {
    "scrolled": false
   },
   "outputs": [],
   "source": [
    "#button = widgets.Button(\n",
    "#    description='START',\n",
    "#    disabled=False,\n",
    "#    button_style='', # 'success', 'info', 'warning', 'danger' or ''\n",
    "#    tooltip='Click me to start',\n",
    "#)\n",
    "\n",
    "toggle = widgets.ToggleButton(\n",
    "    description='START'\n",
    ")\n",
    "#, layout=widgets.Layout(overflow_y='auto')    \n",
    "display(\n",
    "    widgets.VBox([\n",
    "        widgets.HBox([ widgets.VBox(chboxes[0]), widgets.VBox(chboxes[1]), widgets.VBox(chboxes[2]) ]),\n",
    "        toggle\n",
    "    ])\n",
    ")\n",
    "\n",
    "toggle.observe(on_click_start, 'value')"
   ]
  },
  {
   "cell_type": "markdown",
   "metadata": {},
   "source": [
    "### Run workload and collect traces"
   ]
  },
  {
   "cell_type": "code",
   "execution_count": null,
   "metadata": {
    "scrolled": false
   },
   "outputs": [],
   "source": [
    "# Unlock device screen (assume no password required)\n",
    "#target.execute('input keyevent 82')\n",
    "\n",
    "# Run the benchmark in all the configured governors\n",
    "#for governor in confs:\n",
    "#    test_dir = os.path.join(te.res_dir, governor)\n",
    "#    results[governor] = experiment(governor, test_dir)"
   ]
  },
  {
   "cell_type": "markdown",
   "metadata": {},
   "source": [
    "## UI Performance Analysis"
   ]
  },
  {
   "cell_type": "code",
   "execution_count": null,
   "metadata": {},
   "outputs": [],
   "source": [
    "#for governor in confs:\n",
    "#    framestats_file = results[governor]['framestats_file']\n",
    "#    print \"Frame Statistics for {} governor\".format(governor.upper())\n",
    "#    !sed '/Stats since/,/99th/!d;/99th/q' $framestats_file\n",
    "#    print \"\""
   ]
  }
 ],
 "metadata": {
  "kernelspec": {
   "display_name": "Python 2",
   "language": "python",
   "name": "python2"
  },
  "language_info": {
   "codemirror_mode": {
    "name": "ipython",
    "version": 2
   },
   "file_extension": ".py",
   "mimetype": "text/x-python",
   "name": "python",
   "nbconvert_exporter": "python",
   "pygments_lexer": "ipython2",
   "version": "2.7.12"
  },
  "toc": {
   "toc_cell": false,
   "toc_number_sections": true,
   "toc_threshold": 6,
   "toc_window_display": false
  }
 },
 "nbformat": 4,
 "nbformat_minor": 1
}
